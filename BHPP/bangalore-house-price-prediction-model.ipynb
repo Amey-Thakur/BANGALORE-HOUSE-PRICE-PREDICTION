{
 "cells": [
  {
   "cell_type": "markdown",
   "id": "309ace52",
   "metadata": {
    "papermill": {
     "duration": 0.075399,
     "end_time": "2021-07-30T16:14:25.070716",
     "exception": false,
     "start_time": "2021-07-30T16:14:24.995317",
     "status": "completed"
    },
    "tags": []
   },
   "source": [
    "# BANGALORE HOUSE PRICE PREDICTION MODEL"
   ]
  },
  {
   "cell_type": "markdown",
   "id": "06111908",
   "metadata": {
    "papermill": {
     "duration": 0.072761,
     "end_time": "2021-07-30T16:14:25.216323",
     "exception": false,
     "start_time": "2021-07-30T16:14:25.143562",
     "status": "completed"
    },
    "tags": []
   },
   "source": [
    "### Data Link: https://www.kaggle.com/amitabhajoy/bengaluru-house-price-data"
   ]
  },
  {
   "cell_type": "markdown",
   "id": "15587987",
   "metadata": {
    "papermill": {
     "duration": 0.074604,
     "end_time": "2021-07-30T16:14:25.363904",
     "exception": false,
     "start_time": "2021-07-30T16:14:25.289300",
     "status": "completed"
    },
    "tags": []
   },
   "source": [
    "### IMPORT LIBRARIES"
   ]
  },
  {
   "cell_type": "code",
   "execution_count": 1,
   "id": "a59714a2",
   "metadata": {
    "execution": {
     "iopub.execute_input": "2021-07-30T16:14:25.524072Z",
     "iopub.status.busy": "2021-07-30T16:14:25.523386Z",
     "iopub.status.idle": "2021-07-30T16:14:25.526485Z",
     "shell.execute_reply": "2021-07-30T16:14:25.525846Z",
     "shell.execute_reply.started": "2021-07-30T15:36:46.749762Z"
    },
    "papermill": {
     "duration": 0.090175,
     "end_time": "2021-07-30T16:14:25.526701",
     "exception": false,
     "start_time": "2021-07-30T16:14:25.436526",
     "status": "completed"
    },
    "tags": []
   },
   "outputs": [],
   "source": [
    "import pandas as pd\n",
    "import numpy as np\n",
    "from matplotlib import pyplot as plt\n",
    "%matplotlib inline\n",
    "import matplotlib \n",
    "matplotlib.rcParams[\"figure.figsize\"] = (20,10)"
   ]
  },
  {
   "cell_type": "markdown",
   "id": "69eb397b",
   "metadata": {
    "papermill": {
     "duration": 0.072459,
     "end_time": "2021-07-30T16:14:25.672436",
     "exception": false,
     "start_time": "2021-07-30T16:14:25.599977",
     "status": "completed"
    },
    "tags": []
   },
   "source": [
    "### LOAD DATASET"
   ]
  },
  {
   "cell_type": "code",
   "execution_count": 2,
   "id": "36bc1dbe",
   "metadata": {
    "execution": {
     "iopub.execute_input": "2021-07-30T16:14:25.827499Z",
     "iopub.status.busy": "2021-07-30T16:14:25.826699Z",
     "iopub.status.idle": "2021-07-30T16:14:26.000221Z",
     "shell.execute_reply": "2021-07-30T16:14:25.999679Z",
     "shell.execute_reply.started": "2021-07-30T15:36:46.759444Z"
    },
    "papermill": {
     "duration": 0.252507,
     "end_time": "2021-07-30T16:14:26.000375",
     "exception": false,
     "start_time": "2021-07-30T16:14:25.747868",
     "status": "completed"
    },
    "scrolled": true,
    "tags": []
   },
   "outputs": [
    {
     "data": {
      "text/html": [
       "<div>\n",
       "<style scoped>\n",
       "    .dataframe tbody tr th:only-of-type {\n",
       "        vertical-align: middle;\n",
       "    }\n",
       "\n",
       "    .dataframe tbody tr th {\n",
       "        vertical-align: top;\n",
       "    }\n",
       "\n",
       "    .dataframe thead th {\n",
       "        text-align: right;\n",
       "    }\n",
       "</style>\n",
       "<table border=\"1\" class=\"dataframe\">\n",
       "  <thead>\n",
       "    <tr style=\"text-align: right;\">\n",
       "      <th></th>\n",
       "      <th>area_type</th>\n",
       "      <th>availability</th>\n",
       "      <th>location</th>\n",
       "      <th>size</th>\n",
       "      <th>society</th>\n",
       "      <th>total_sqft</th>\n",
       "      <th>bath</th>\n",
       "      <th>balcony</th>\n",
       "      <th>price</th>\n",
       "    </tr>\n",
       "  </thead>\n",
       "  <tbody>\n",
       "    <tr>\n",
       "      <th>0</th>\n",
       "      <td>Super built-up  Area</td>\n",
       "      <td>19-Dec</td>\n",
       "      <td>Electronic City Phase II</td>\n",
       "      <td>2 BHK</td>\n",
       "      <td>Coomee</td>\n",
       "      <td>1056</td>\n",
       "      <td>2.0</td>\n",
       "      <td>1.0</td>\n",
       "      <td>39.07</td>\n",
       "    </tr>\n",
       "    <tr>\n",
       "      <th>1</th>\n",
       "      <td>Plot  Area</td>\n",
       "      <td>Ready To Move</td>\n",
       "      <td>Chikka Tirupathi</td>\n",
       "      <td>4 Bedroom</td>\n",
       "      <td>Theanmp</td>\n",
       "      <td>2600</td>\n",
       "      <td>5.0</td>\n",
       "      <td>3.0</td>\n",
       "      <td>120.00</td>\n",
       "    </tr>\n",
       "    <tr>\n",
       "      <th>2</th>\n",
       "      <td>Built-up  Area</td>\n",
       "      <td>Ready To Move</td>\n",
       "      <td>Uttarahalli</td>\n",
       "      <td>3 BHK</td>\n",
       "      <td>NaN</td>\n",
       "      <td>1440</td>\n",
       "      <td>2.0</td>\n",
       "      <td>3.0</td>\n",
       "      <td>62.00</td>\n",
       "    </tr>\n",
       "    <tr>\n",
       "      <th>3</th>\n",
       "      <td>Super built-up  Area</td>\n",
       "      <td>Ready To Move</td>\n",
       "      <td>Lingadheeranahalli</td>\n",
       "      <td>3 BHK</td>\n",
       "      <td>Soiewre</td>\n",
       "      <td>1521</td>\n",
       "      <td>3.0</td>\n",
       "      <td>1.0</td>\n",
       "      <td>95.00</td>\n",
       "    </tr>\n",
       "    <tr>\n",
       "      <th>4</th>\n",
       "      <td>Super built-up  Area</td>\n",
       "      <td>Ready To Move</td>\n",
       "      <td>Kothanur</td>\n",
       "      <td>2 BHK</td>\n",
       "      <td>NaN</td>\n",
       "      <td>1200</td>\n",
       "      <td>2.0</td>\n",
       "      <td>1.0</td>\n",
       "      <td>51.00</td>\n",
       "    </tr>\n",
       "  </tbody>\n",
       "</table>\n",
       "</div>"
      ],
      "text/plain": [
       "              area_type   availability                  location       size  \\\n",
       "0  Super built-up  Area         19-Dec  Electronic City Phase II      2 BHK   \n",
       "1            Plot  Area  Ready To Move          Chikka Tirupathi  4 Bedroom   \n",
       "2        Built-up  Area  Ready To Move               Uttarahalli      3 BHK   \n",
       "3  Super built-up  Area  Ready To Move        Lingadheeranahalli      3 BHK   \n",
       "4  Super built-up  Area  Ready To Move                  Kothanur      2 BHK   \n",
       "\n",
       "   society total_sqft  bath  balcony   price  \n",
       "0  Coomee        1056   2.0      1.0   39.07  \n",
       "1  Theanmp       2600   5.0      3.0  120.00  \n",
       "2      NaN       1440   2.0      3.0   62.00  \n",
       "3  Soiewre       1521   3.0      1.0   95.00  \n",
       "4      NaN       1200   2.0      1.0   51.00  "
      ]
     },
     "execution_count": 2,
     "metadata": {},
     "output_type": "execute_result"
    }
   ],
   "source": [
    "df1 = pd.read_csv(\"../input/bengaluru-house-price-data/Bengaluru_House_Data.csv\")\n",
    "df1.head()"
   ]
  },
  {
   "cell_type": "markdown",
   "id": "055c89b0",
   "metadata": {
    "papermill": {
     "duration": 0.073959,
     "end_time": "2021-07-30T16:14:26.148962",
     "exception": false,
     "start_time": "2021-07-30T16:14:26.075003",
     "status": "completed"
    },
    "tags": []
   },
   "source": [
    "### EXPLORATORY DATA ANALYSIS"
   ]
  },
  {
   "cell_type": "code",
   "execution_count": 3,
   "id": "e7b7bfa4",
   "metadata": {
    "execution": {
     "iopub.execute_input": "2021-07-30T16:14:26.302925Z",
     "iopub.status.busy": "2021-07-30T16:14:26.302056Z",
     "iopub.status.idle": "2021-07-30T16:14:26.306856Z",
     "shell.execute_reply": "2021-07-30T16:14:26.306214Z",
     "shell.execute_reply.started": "2021-07-30T15:36:46.822430Z"
    },
    "papermill": {
     "duration": 0.084216,
     "end_time": "2021-07-30T16:14:26.307000",
     "exception": false,
     "start_time": "2021-07-30T16:14:26.222784",
     "status": "completed"
    },
    "tags": []
   },
   "outputs": [
    {
     "data": {
      "text/plain": [
       "(13320, 9)"
      ]
     },
     "execution_count": 3,
     "metadata": {},
     "output_type": "execute_result"
    }
   ],
   "source": [
    "df1.shape"
   ]
  },
  {
   "cell_type": "code",
   "execution_count": 4,
   "id": "d04730ec",
   "metadata": {
    "execution": {
     "iopub.execute_input": "2021-07-30T16:14:26.463172Z",
     "iopub.status.busy": "2021-07-30T16:14:26.462277Z",
     "iopub.status.idle": "2021-07-30T16:14:26.466282Z",
     "shell.execute_reply": "2021-07-30T16:14:26.466905Z",
     "shell.execute_reply.started": "2021-07-30T15:36:46.830157Z"
    },
    "papermill": {
     "duration": 0.086048,
     "end_time": "2021-07-30T16:14:26.467108",
     "exception": false,
     "start_time": "2021-07-30T16:14:26.381060",
     "status": "completed"
    },
    "tags": []
   },
   "outputs": [
    {
     "data": {
      "text/plain": [
       "Index(['area_type', 'availability', 'location', 'size', 'society',\n",
       "       'total_sqft', 'bath', 'balcony', 'price'],\n",
       "      dtype='object')"
      ]
     },
     "execution_count": 4,
     "metadata": {},
     "output_type": "execute_result"
    }
   ],
   "source": [
    "df1.columns"
   ]
  },
  {
   "cell_type": "code",
   "execution_count": 5,
   "id": "0e51b002",
   "metadata": {
    "execution": {
     "iopub.execute_input": "2021-07-30T16:14:26.618117Z",
     "iopub.status.busy": "2021-07-30T16:14:26.616925Z",
     "iopub.status.idle": "2021-07-30T16:14:26.628882Z",
     "shell.execute_reply": "2021-07-30T16:14:26.629608Z",
     "shell.execute_reply.started": "2021-07-30T15:36:46.843847Z"
    },
    "papermill": {
     "duration": 0.088982,
     "end_time": "2021-07-30T16:14:26.629797",
     "exception": false,
     "start_time": "2021-07-30T16:14:26.540815",
     "status": "completed"
    },
    "tags": []
   },
   "outputs": [
    {
     "data": {
      "text/plain": [
       "array(['Super built-up  Area', 'Plot  Area', 'Built-up  Area',\n",
       "       'Carpet  Area'], dtype=object)"
      ]
     },
     "execution_count": 5,
     "metadata": {},
     "output_type": "execute_result"
    }
   ],
   "source": [
    "df1['area_type'].unique()"
   ]
  },
  {
   "cell_type": "code",
   "execution_count": 6,
   "id": "36fc921c",
   "metadata": {
    "execution": {
     "iopub.execute_input": "2021-07-30T16:14:26.801329Z",
     "iopub.status.busy": "2021-07-30T16:14:26.800287Z",
     "iopub.status.idle": "2021-07-30T16:14:26.805282Z",
     "shell.execute_reply": "2021-07-30T16:14:26.804463Z",
     "shell.execute_reply.started": "2021-07-30T15:36:46.857817Z"
    },
    "papermill": {
     "duration": 0.09354,
     "end_time": "2021-07-30T16:14:26.805487",
     "exception": false,
     "start_time": "2021-07-30T16:14:26.711947",
     "status": "completed"
    },
    "tags": []
   },
   "outputs": [
    {
     "data": {
      "text/plain": [
       "Super built-up  Area    8790\n",
       "Built-up  Area          2418\n",
       "Plot  Area              2025\n",
       "Carpet  Area              87\n",
       "Name: area_type, dtype: int64"
      ]
     },
     "execution_count": 6,
     "metadata": {},
     "output_type": "execute_result"
    }
   ],
   "source": [
    "df1['area_type'].value_counts()"
   ]
  },
  {
   "cell_type": "markdown",
   "id": "7c598e3e",
   "metadata": {
    "papermill": {
     "duration": 0.076636,
     "end_time": "2021-07-30T16:14:26.958524",
     "exception": false,
     "start_time": "2021-07-30T16:14:26.881888",
     "status": "completed"
    },
    "tags": []
   },
   "source": [
    "**NOTE:** DROP UNNECESSARY FEATURES"
   ]
  },
  {
   "cell_type": "code",
   "execution_count": 7,
   "id": "c4ab12f4",
   "metadata": {
    "execution": {
     "iopub.execute_input": "2021-07-30T16:14:27.119395Z",
     "iopub.status.busy": "2021-07-30T16:14:27.118686Z",
     "iopub.status.idle": "2021-07-30T16:14:27.121914Z",
     "shell.execute_reply": "2021-07-30T16:14:27.122498Z",
     "shell.execute_reply.started": "2021-07-30T15:36:46.875470Z"
    },
    "papermill": {
     "duration": 0.086878,
     "end_time": "2021-07-30T16:14:27.122686",
     "exception": false,
     "start_time": "2021-07-30T16:14:27.035808",
     "status": "completed"
    },
    "tags": []
   },
   "outputs": [
    {
     "data": {
      "text/plain": [
       "(13320, 5)"
      ]
     },
     "execution_count": 7,
     "metadata": {},
     "output_type": "execute_result"
    }
   ],
   "source": [
    "df2 = df1.drop(['area_type','society','balcony','availability'],axis='columns')\n",
    "df2.shape"
   ]
  },
  {
   "cell_type": "markdown",
   "id": "e0feb7b5",
   "metadata": {
    "papermill": {
     "duration": 0.075662,
     "end_time": "2021-07-30T16:14:27.273210",
     "exception": false,
     "start_time": "2021-07-30T16:14:27.197548",
     "status": "completed"
    },
    "tags": []
   },
   "source": [
    "### DATA CLEANING"
   ]
  },
  {
   "cell_type": "code",
   "execution_count": 8,
   "id": "fd28a2d0",
   "metadata": {
    "execution": {
     "iopub.execute_input": "2021-07-30T16:14:27.431734Z",
     "iopub.status.busy": "2021-07-30T16:14:27.430938Z",
     "iopub.status.idle": "2021-07-30T16:14:27.444876Z",
     "shell.execute_reply": "2021-07-30T16:14:27.444257Z",
     "shell.execute_reply.started": "2021-07-30T15:36:46.890616Z"
    },
    "papermill": {
     "duration": 0.093621,
     "end_time": "2021-07-30T16:14:27.445030",
     "exception": false,
     "start_time": "2021-07-30T16:14:27.351409",
     "status": "completed"
    },
    "tags": []
   },
   "outputs": [
    {
     "data": {
      "text/plain": [
       "location       1\n",
       "size          16\n",
       "total_sqft     0\n",
       "bath          73\n",
       "price          0\n",
       "dtype: int64"
      ]
     },
     "execution_count": 8,
     "metadata": {},
     "output_type": "execute_result"
    }
   ],
   "source": [
    "df2.isnull().sum()"
   ]
  },
  {
   "cell_type": "code",
   "execution_count": 9,
   "id": "9e583895",
   "metadata": {
    "execution": {
     "iopub.execute_input": "2021-07-30T16:14:27.595958Z",
     "iopub.status.busy": "2021-07-30T16:14:27.595261Z",
     "iopub.status.idle": "2021-07-30T16:14:27.601506Z",
     "shell.execute_reply": "2021-07-30T16:14:27.601007Z",
     "shell.execute_reply.started": "2021-07-30T15:36:46.910358Z"
    },
    "papermill": {
     "duration": 0.082492,
     "end_time": "2021-07-30T16:14:27.601669",
     "exception": false,
     "start_time": "2021-07-30T16:14:27.519177",
     "status": "completed"
    },
    "tags": []
   },
   "outputs": [
    {
     "data": {
      "text/plain": [
       "(13320, 5)"
      ]
     },
     "execution_count": 9,
     "metadata": {},
     "output_type": "execute_result"
    }
   ],
   "source": [
    "df2.shape"
   ]
  },
  {
   "cell_type": "code",
   "execution_count": 10,
   "id": "181cf7b2",
   "metadata": {
    "execution": {
     "iopub.execute_input": "2021-07-30T16:14:27.759839Z",
     "iopub.status.busy": "2021-07-30T16:14:27.759105Z",
     "iopub.status.idle": "2021-07-30T16:14:27.796326Z",
     "shell.execute_reply": "2021-07-30T16:14:27.796805Z",
     "shell.execute_reply.started": "2021-07-30T15:36:46.921369Z"
    },
    "papermill": {
     "duration": 0.121936,
     "end_time": "2021-07-30T16:14:27.797013",
     "exception": false,
     "start_time": "2021-07-30T16:14:27.675077",
     "status": "completed"
    },
    "tags": []
   },
   "outputs": [
    {
     "data": {
      "text/plain": [
       "location      0\n",
       "size          0\n",
       "total_sqft    0\n",
       "bath          0\n",
       "price         0\n",
       "dtype: int64"
      ]
     },
     "execution_count": 10,
     "metadata": {},
     "output_type": "execute_result"
    }
   ],
   "source": [
    "df3 = df2.dropna()\n",
    "df3.isnull().sum()"
   ]
  },
  {
   "cell_type": "code",
   "execution_count": 11,
   "id": "cf4606e7",
   "metadata": {
    "execution": {
     "iopub.execute_input": "2021-07-30T16:14:27.951989Z",
     "iopub.status.busy": "2021-07-30T16:14:27.951225Z",
     "iopub.status.idle": "2021-07-30T16:14:27.955356Z",
     "shell.execute_reply": "2021-07-30T16:14:27.954647Z",
     "shell.execute_reply.started": "2021-07-30T15:36:46.964706Z"
    },
    "papermill": {
     "duration": 0.083152,
     "end_time": "2021-07-30T16:14:27.955509",
     "exception": false,
     "start_time": "2021-07-30T16:14:27.872357",
     "status": "completed"
    },
    "tags": []
   },
   "outputs": [
    {
     "data": {
      "text/plain": [
       "(13246, 5)"
      ]
     },
     "execution_count": 11,
     "metadata": {},
     "output_type": "execute_result"
    }
   ],
   "source": [
    "df3.shape"
   ]
  },
  {
   "cell_type": "markdown",
   "id": "24264508",
   "metadata": {
    "papermill": {
     "duration": 0.073757,
     "end_time": "2021-07-30T16:14:28.104259",
     "exception": false,
     "start_time": "2021-07-30T16:14:28.030502",
     "status": "completed"
    },
    "tags": []
   },
   "source": [
    "### FEATURE ENGINEERING"
   ]
  },
  {
   "cell_type": "code",
   "execution_count": 12,
   "id": "f97c9022",
   "metadata": {
    "execution": {
     "iopub.execute_input": "2021-07-30T16:14:28.255217Z",
     "iopub.status.busy": "2021-07-30T16:14:28.254503Z",
     "iopub.status.idle": "2021-07-30T16:14:28.281231Z",
     "shell.execute_reply": "2021-07-30T16:14:28.280311Z",
     "shell.execute_reply.started": "2021-07-30T15:36:46.972550Z"
    },
    "papermill": {
     "duration": 0.103113,
     "end_time": "2021-07-30T16:14:28.281424",
     "exception": false,
     "start_time": "2021-07-30T16:14:28.178311",
     "status": "completed"
    },
    "tags": []
   },
   "outputs": [
    {
     "name": "stderr",
     "output_type": "stream",
     "text": [
      "/opt/conda/lib/python3.7/site-packages/ipykernel_launcher.py:1: SettingWithCopyWarning: \n",
      "A value is trying to be set on a copy of a slice from a DataFrame.\n",
      "Try using .loc[row_indexer,col_indexer] = value instead\n",
      "\n",
      "See the caveats in the documentation: https://pandas.pydata.org/pandas-docs/stable/user_guide/indexing.html#returning-a-view-versus-a-copy\n",
      "  \"\"\"Entry point for launching an IPython kernel.\n"
     ]
    },
    {
     "data": {
      "text/plain": [
       "array([ 2,  4,  3,  6,  1,  8,  7,  5, 11,  9, 27, 10, 19, 16, 43, 14, 12,\n",
       "       13, 18])"
      ]
     },
     "execution_count": 12,
     "metadata": {},
     "output_type": "execute_result"
    }
   ],
   "source": [
    "df3['bhk'] = df3['size'].apply(lambda x: int(x.split(' ')[0]))\n",
    "df3.bhk.unique()"
   ]
  },
  {
   "cell_type": "markdown",
   "id": "9a5701dc",
   "metadata": {
    "papermill": {
     "duration": 0.076372,
     "end_time": "2021-07-30T16:14:28.434921",
     "exception": false,
     "start_time": "2021-07-30T16:14:28.358549",
     "status": "completed"
    },
    "tags": []
   },
   "source": [
    "**EXPLORE TOTAL SQFT FEATURE**"
   ]
  },
  {
   "cell_type": "code",
   "execution_count": 13,
   "id": "a1fb79b1",
   "metadata": {
    "execution": {
     "iopub.execute_input": "2021-07-30T16:14:28.594656Z",
     "iopub.status.busy": "2021-07-30T16:14:28.593988Z",
     "iopub.status.idle": "2021-07-30T16:14:28.597190Z",
     "shell.execute_reply": "2021-07-30T16:14:28.596541Z",
     "shell.execute_reply.started": "2021-07-30T15:36:47.006351Z"
    },
    "papermill": {
     "duration": 0.084526,
     "end_time": "2021-07-30T16:14:28.597329",
     "exception": false,
     "start_time": "2021-07-30T16:14:28.512803",
     "status": "completed"
    },
    "tags": []
   },
   "outputs": [],
   "source": [
    "def is_float(x):\n",
    "    try:\n",
    "        float(x)\n",
    "    except:\n",
    "        return False\n",
    "    return True"
   ]
  },
  {
   "cell_type": "code",
   "execution_count": 14,
   "id": "7895aea6",
   "metadata": {
    "execution": {
     "iopub.execute_input": "2021-07-30T16:14:28.752395Z",
     "iopub.status.busy": "2021-07-30T16:14:28.751480Z",
     "iopub.status.idle": "2021-07-30T16:14:28.755069Z",
     "shell.execute_reply": "2021-07-30T16:14:28.755615Z",
     "shell.execute_reply.started": "2021-07-30T15:36:47.013912Z"
    },
    "papermill": {
     "duration": 0.083864,
     "end_time": "2021-07-30T16:14:28.755805",
     "exception": false,
     "start_time": "2021-07-30T16:14:28.671941",
     "status": "completed"
    },
    "tags": []
   },
   "outputs": [
    {
     "data": {
      "text/plain": [
       "5"
      ]
     },
     "execution_count": 14,
     "metadata": {},
     "output_type": "execute_result"
    }
   ],
   "source": [
    "2+3"
   ]
  },
  {
   "cell_type": "code",
   "execution_count": 15,
   "id": "217801d9",
   "metadata": {
    "execution": {
     "iopub.execute_input": "2021-07-30T16:14:28.910637Z",
     "iopub.status.busy": "2021-07-30T16:14:28.909662Z",
     "iopub.status.idle": "2021-07-30T16:14:28.933677Z",
     "shell.execute_reply": "2021-07-30T16:14:28.934194Z",
     "shell.execute_reply.started": "2021-07-30T15:36:47.027654Z"
    },
    "papermill": {
     "duration": 0.10259,
     "end_time": "2021-07-30T16:14:28.934375",
     "exception": false,
     "start_time": "2021-07-30T16:14:28.831785",
     "status": "completed"
    },
    "scrolled": true,
    "tags": []
   },
   "outputs": [
    {
     "data": {
      "text/html": [
       "<div>\n",
       "<style scoped>\n",
       "    .dataframe tbody tr th:only-of-type {\n",
       "        vertical-align: middle;\n",
       "    }\n",
       "\n",
       "    .dataframe tbody tr th {\n",
       "        vertical-align: top;\n",
       "    }\n",
       "\n",
       "    .dataframe thead th {\n",
       "        text-align: right;\n",
       "    }\n",
       "</style>\n",
       "<table border=\"1\" class=\"dataframe\">\n",
       "  <thead>\n",
       "    <tr style=\"text-align: right;\">\n",
       "      <th></th>\n",
       "      <th>location</th>\n",
       "      <th>size</th>\n",
       "      <th>total_sqft</th>\n",
       "      <th>bath</th>\n",
       "      <th>price</th>\n",
       "      <th>bhk</th>\n",
       "    </tr>\n",
       "  </thead>\n",
       "  <tbody>\n",
       "    <tr>\n",
       "      <th>30</th>\n",
       "      <td>Yelahanka</td>\n",
       "      <td>4 BHK</td>\n",
       "      <td>2100 - 2850</td>\n",
       "      <td>4.0</td>\n",
       "      <td>186.000</td>\n",
       "      <td>4</td>\n",
       "    </tr>\n",
       "    <tr>\n",
       "      <th>122</th>\n",
       "      <td>Hebbal</td>\n",
       "      <td>4 BHK</td>\n",
       "      <td>3067 - 8156</td>\n",
       "      <td>4.0</td>\n",
       "      <td>477.000</td>\n",
       "      <td>4</td>\n",
       "    </tr>\n",
       "    <tr>\n",
       "      <th>137</th>\n",
       "      <td>8th Phase JP Nagar</td>\n",
       "      <td>2 BHK</td>\n",
       "      <td>1042 - 1105</td>\n",
       "      <td>2.0</td>\n",
       "      <td>54.005</td>\n",
       "      <td>2</td>\n",
       "    </tr>\n",
       "    <tr>\n",
       "      <th>165</th>\n",
       "      <td>Sarjapur</td>\n",
       "      <td>2 BHK</td>\n",
       "      <td>1145 - 1340</td>\n",
       "      <td>2.0</td>\n",
       "      <td>43.490</td>\n",
       "      <td>2</td>\n",
       "    </tr>\n",
       "    <tr>\n",
       "      <th>188</th>\n",
       "      <td>KR Puram</td>\n",
       "      <td>2 BHK</td>\n",
       "      <td>1015 - 1540</td>\n",
       "      <td>2.0</td>\n",
       "      <td>56.800</td>\n",
       "      <td>2</td>\n",
       "    </tr>\n",
       "    <tr>\n",
       "      <th>410</th>\n",
       "      <td>Kengeri</td>\n",
       "      <td>1 BHK</td>\n",
       "      <td>34.46Sq. Meter</td>\n",
       "      <td>1.0</td>\n",
       "      <td>18.500</td>\n",
       "      <td>1</td>\n",
       "    </tr>\n",
       "    <tr>\n",
       "      <th>549</th>\n",
       "      <td>Hennur Road</td>\n",
       "      <td>2 BHK</td>\n",
       "      <td>1195 - 1440</td>\n",
       "      <td>2.0</td>\n",
       "      <td>63.770</td>\n",
       "      <td>2</td>\n",
       "    </tr>\n",
       "    <tr>\n",
       "      <th>648</th>\n",
       "      <td>Arekere</td>\n",
       "      <td>9 Bedroom</td>\n",
       "      <td>4125Perch</td>\n",
       "      <td>9.0</td>\n",
       "      <td>265.000</td>\n",
       "      <td>9</td>\n",
       "    </tr>\n",
       "    <tr>\n",
       "      <th>661</th>\n",
       "      <td>Yelahanka</td>\n",
       "      <td>2 BHK</td>\n",
       "      <td>1120 - 1145</td>\n",
       "      <td>2.0</td>\n",
       "      <td>48.130</td>\n",
       "      <td>2</td>\n",
       "    </tr>\n",
       "    <tr>\n",
       "      <th>672</th>\n",
       "      <td>Bettahalsoor</td>\n",
       "      <td>4 Bedroom</td>\n",
       "      <td>3090 - 5002</td>\n",
       "      <td>4.0</td>\n",
       "      <td>445.000</td>\n",
       "      <td>4</td>\n",
       "    </tr>\n",
       "  </tbody>\n",
       "</table>\n",
       "</div>"
      ],
      "text/plain": [
       "               location       size      total_sqft  bath    price  bhk\n",
       "30            Yelahanka      4 BHK     2100 - 2850   4.0  186.000    4\n",
       "122              Hebbal      4 BHK     3067 - 8156   4.0  477.000    4\n",
       "137  8th Phase JP Nagar      2 BHK     1042 - 1105   2.0   54.005    2\n",
       "165            Sarjapur      2 BHK     1145 - 1340   2.0   43.490    2\n",
       "188            KR Puram      2 BHK     1015 - 1540   2.0   56.800    2\n",
       "410             Kengeri      1 BHK  34.46Sq. Meter   1.0   18.500    1\n",
       "549         Hennur Road      2 BHK     1195 - 1440   2.0   63.770    2\n",
       "648             Arekere  9 Bedroom       4125Perch   9.0  265.000    9\n",
       "661           Yelahanka      2 BHK     1120 - 1145   2.0   48.130    2\n",
       "672        Bettahalsoor  4 Bedroom     3090 - 5002   4.0  445.000    4"
      ]
     },
     "execution_count": 15,
     "metadata": {},
     "output_type": "execute_result"
    }
   ],
   "source": [
    "df3[~df3['total_sqft'].apply(is_float)].head(10)"
   ]
  },
  {
   "cell_type": "markdown",
   "id": "0f068419",
   "metadata": {
    "papermill": {
     "duration": 0.074554,
     "end_time": "2021-07-30T16:14:29.084537",
     "exception": false,
     "start_time": "2021-07-30T16:14:29.009983",
     "status": "completed"
    },
    "tags": []
   },
   "source": [
    "**ABOVE DATA SHOWS THAT TOTAL SQFT CAN BE A RANGE (E.G. 2100-2850). FOR SUCH CASES WE CAN JUST TAKE AVERAGE OF MIN & MAX VALUE IN THE RANGE. THERE ARE OTHER CASES WHERE VALUES ARE IN SQM WHICH CAN BE CONVERTED TO SQFT USING UNIT CONVERSION.**"
   ]
  },
  {
   "cell_type": "code",
   "execution_count": 16,
   "id": "d0b483c9",
   "metadata": {
    "execution": {
     "iopub.execute_input": "2021-07-30T16:14:29.238205Z",
     "iopub.status.busy": "2021-07-30T16:14:29.237457Z",
     "iopub.status.idle": "2021-07-30T16:14:29.243920Z",
     "shell.execute_reply": "2021-07-30T16:14:29.243193Z",
     "shell.execute_reply.started": "2021-07-30T15:36:47.059019Z"
    },
    "papermill": {
     "duration": 0.084413,
     "end_time": "2021-07-30T16:14:29.244066",
     "exception": false,
     "start_time": "2021-07-30T16:14:29.159653",
     "status": "completed"
    },
    "tags": []
   },
   "outputs": [],
   "source": [
    "def convert_sqft_to_num(x):\n",
    "    tokens = x.split('-')\n",
    "    if len(tokens) == 2:\n",
    "        return (float(tokens[0])+float(tokens[1]))/2\n",
    "    try:\n",
    "        return float(x)\n",
    "    except:\n",
    "        return None   "
   ]
  },
  {
   "cell_type": "code",
   "execution_count": 17,
   "id": "579c20a9",
   "metadata": {
    "execution": {
     "iopub.execute_input": "2021-07-30T16:14:29.404026Z",
     "iopub.status.busy": "2021-07-30T16:14:29.403284Z",
     "iopub.status.idle": "2021-07-30T16:14:29.431705Z",
     "shell.execute_reply": "2021-07-30T16:14:29.431130Z",
     "shell.execute_reply.started": "2021-07-30T15:36:47.068274Z"
    },
    "papermill": {
     "duration": 0.111835,
     "end_time": "2021-07-30T16:14:29.431848",
     "exception": false,
     "start_time": "2021-07-30T16:14:29.320013",
     "status": "completed"
    },
    "tags": []
   },
   "outputs": [
    {
     "data": {
      "text/html": [
       "<div>\n",
       "<style scoped>\n",
       "    .dataframe tbody tr th:only-of-type {\n",
       "        vertical-align: middle;\n",
       "    }\n",
       "\n",
       "    .dataframe tbody tr th {\n",
       "        vertical-align: top;\n",
       "    }\n",
       "\n",
       "    .dataframe thead th {\n",
       "        text-align: right;\n",
       "    }\n",
       "</style>\n",
       "<table border=\"1\" class=\"dataframe\">\n",
       "  <thead>\n",
       "    <tr style=\"text-align: right;\">\n",
       "      <th></th>\n",
       "      <th>location</th>\n",
       "      <th>size</th>\n",
       "      <th>total_sqft</th>\n",
       "      <th>bath</th>\n",
       "      <th>price</th>\n",
       "      <th>bhk</th>\n",
       "    </tr>\n",
       "  </thead>\n",
       "  <tbody>\n",
       "    <tr>\n",
       "      <th>0</th>\n",
       "      <td>Electronic City Phase II</td>\n",
       "      <td>2 BHK</td>\n",
       "      <td>1056.0</td>\n",
       "      <td>2.0</td>\n",
       "      <td>39.07</td>\n",
       "      <td>2</td>\n",
       "    </tr>\n",
       "    <tr>\n",
       "      <th>1</th>\n",
       "      <td>Chikka Tirupathi</td>\n",
       "      <td>4 Bedroom</td>\n",
       "      <td>2600.0</td>\n",
       "      <td>5.0</td>\n",
       "      <td>120.00</td>\n",
       "      <td>4</td>\n",
       "    </tr>\n",
       "  </tbody>\n",
       "</table>\n",
       "</div>"
      ],
      "text/plain": [
       "                   location       size  total_sqft  bath   price  bhk\n",
       "0  Electronic City Phase II      2 BHK      1056.0   2.0   39.07    2\n",
       "1          Chikka Tirupathi  4 Bedroom      2600.0   5.0  120.00    4"
      ]
     },
     "execution_count": 17,
     "metadata": {},
     "output_type": "execute_result"
    }
   ],
   "source": [
    "df4 = df3.copy()\n",
    "df4.total_sqft = df4.total_sqft.apply(convert_sqft_to_num)\n",
    "df4 = df4[df4.total_sqft.notnull()]\n",
    "df4.head(2)"
   ]
  },
  {
   "cell_type": "markdown",
   "id": "3c2756e2",
   "metadata": {
    "papermill": {
     "duration": 0.076172,
     "end_time": "2021-07-30T16:14:29.584563",
     "exception": false,
     "start_time": "2021-07-30T16:14:29.508391",
     "status": "completed"
    },
    "tags": []
   },
   "source": [
    "**FOR ROW BELOW, IT SHOWS TOTAL SQFT AS 2475 WHICH IS AN AVERAGE OF THE RANGE 2100-2850**"
   ]
  },
  {
   "cell_type": "code",
   "execution_count": 18,
   "id": "03b05c68",
   "metadata": {
    "execution": {
     "iopub.execute_input": "2021-07-30T16:14:29.740426Z",
     "iopub.status.busy": "2021-07-30T16:14:29.739391Z",
     "iopub.status.idle": "2021-07-30T16:14:29.747521Z",
     "shell.execute_reply": "2021-07-30T16:14:29.748064Z",
     "shell.execute_reply.started": "2021-07-30T15:36:47.103886Z"
    },
    "papermill": {
     "duration": 0.087687,
     "end_time": "2021-07-30T16:14:29.748249",
     "exception": false,
     "start_time": "2021-07-30T16:14:29.660562",
     "status": "completed"
    },
    "scrolled": true,
    "tags": []
   },
   "outputs": [
    {
     "data": {
      "text/plain": [
       "location      Yelahanka\n",
       "size              4 BHK\n",
       "total_sqft       2475.0\n",
       "bath                4.0\n",
       "price             186.0\n",
       "bhk                   4\n",
       "Name: 30, dtype: object"
      ]
     },
     "execution_count": 18,
     "metadata": {},
     "output_type": "execute_result"
    }
   ],
   "source": [
    "df4.loc[30]"
   ]
  },
  {
   "cell_type": "code",
   "execution_count": 19,
   "id": "cf55e780",
   "metadata": {
    "execution": {
     "iopub.execute_input": "2021-07-30T16:14:29.908623Z",
     "iopub.status.busy": "2021-07-30T16:14:29.907903Z",
     "iopub.status.idle": "2021-07-30T16:14:29.910982Z",
     "shell.execute_reply": "2021-07-30T16:14:29.911470Z",
     "shell.execute_reply.started": "2021-07-30T15:36:47.113995Z"
    },
    "papermill": {
     "duration": 0.08718,
     "end_time": "2021-07-30T16:14:29.911668",
     "exception": false,
     "start_time": "2021-07-30T16:14:29.824488",
     "status": "completed"
    },
    "tags": []
   },
   "outputs": [
    {
     "data": {
      "text/plain": [
       "2475.0"
      ]
     },
     "execution_count": 19,
     "metadata": {},
     "output_type": "execute_result"
    }
   ],
   "source": [
    "(2100+2850)/2"
   ]
  },
  {
   "cell_type": "markdown",
   "id": "162ca5fb",
   "metadata": {
    "papermill": {
     "duration": 0.076783,
     "end_time": "2021-07-30T16:14:30.065525",
     "exception": false,
     "start_time": "2021-07-30T16:14:29.988742",
     "status": "completed"
    },
    "tags": []
   },
   "source": [
    "**ADD NEW FEATURE CALLED PRICE PER SQUARE FEET**"
   ]
  },
  {
   "cell_type": "code",
   "execution_count": 20,
   "id": "a816415b",
   "metadata": {
    "execution": {
     "iopub.execute_input": "2021-07-30T16:14:30.223039Z",
     "iopub.status.busy": "2021-07-30T16:14:30.222373Z",
     "iopub.status.idle": "2021-07-30T16:14:30.242478Z",
     "shell.execute_reply": "2021-07-30T16:14:30.241821Z",
     "shell.execute_reply.started": "2021-07-30T15:36:47.123883Z"
    },
    "papermill": {
     "duration": 0.099699,
     "end_time": "2021-07-30T16:14:30.242656",
     "exception": false,
     "start_time": "2021-07-30T16:14:30.142957",
     "status": "completed"
    },
    "tags": []
   },
   "outputs": [
    {
     "data": {
      "text/html": [
       "<div>\n",
       "<style scoped>\n",
       "    .dataframe tbody tr th:only-of-type {\n",
       "        vertical-align: middle;\n",
       "    }\n",
       "\n",
       "    .dataframe tbody tr th {\n",
       "        vertical-align: top;\n",
       "    }\n",
       "\n",
       "    .dataframe thead th {\n",
       "        text-align: right;\n",
       "    }\n",
       "</style>\n",
       "<table border=\"1\" class=\"dataframe\">\n",
       "  <thead>\n",
       "    <tr style=\"text-align: right;\">\n",
       "      <th></th>\n",
       "      <th>location</th>\n",
       "      <th>size</th>\n",
       "      <th>total_sqft</th>\n",
       "      <th>bath</th>\n",
       "      <th>price</th>\n",
       "      <th>bhk</th>\n",
       "      <th>price_per_sqft</th>\n",
       "    </tr>\n",
       "  </thead>\n",
       "  <tbody>\n",
       "    <tr>\n",
       "      <th>0</th>\n",
       "      <td>Electronic City Phase II</td>\n",
       "      <td>2 BHK</td>\n",
       "      <td>1056.0</td>\n",
       "      <td>2.0</td>\n",
       "      <td>39.07</td>\n",
       "      <td>2</td>\n",
       "      <td>3699.810606</td>\n",
       "    </tr>\n",
       "    <tr>\n",
       "      <th>1</th>\n",
       "      <td>Chikka Tirupathi</td>\n",
       "      <td>4 Bedroom</td>\n",
       "      <td>2600.0</td>\n",
       "      <td>5.0</td>\n",
       "      <td>120.00</td>\n",
       "      <td>4</td>\n",
       "      <td>4615.384615</td>\n",
       "    </tr>\n",
       "    <tr>\n",
       "      <th>2</th>\n",
       "      <td>Uttarahalli</td>\n",
       "      <td>3 BHK</td>\n",
       "      <td>1440.0</td>\n",
       "      <td>2.0</td>\n",
       "      <td>62.00</td>\n",
       "      <td>3</td>\n",
       "      <td>4305.555556</td>\n",
       "    </tr>\n",
       "    <tr>\n",
       "      <th>3</th>\n",
       "      <td>Lingadheeranahalli</td>\n",
       "      <td>3 BHK</td>\n",
       "      <td>1521.0</td>\n",
       "      <td>3.0</td>\n",
       "      <td>95.00</td>\n",
       "      <td>3</td>\n",
       "      <td>6245.890861</td>\n",
       "    </tr>\n",
       "    <tr>\n",
       "      <th>4</th>\n",
       "      <td>Kothanur</td>\n",
       "      <td>2 BHK</td>\n",
       "      <td>1200.0</td>\n",
       "      <td>2.0</td>\n",
       "      <td>51.00</td>\n",
       "      <td>2</td>\n",
       "      <td>4250.000000</td>\n",
       "    </tr>\n",
       "  </tbody>\n",
       "</table>\n",
       "</div>"
      ],
      "text/plain": [
       "                   location       size  total_sqft  bath   price  bhk  \\\n",
       "0  Electronic City Phase II      2 BHK      1056.0   2.0   39.07    2   \n",
       "1          Chikka Tirupathi  4 Bedroom      2600.0   5.0  120.00    4   \n",
       "2               Uttarahalli      3 BHK      1440.0   2.0   62.00    3   \n",
       "3        Lingadheeranahalli      3 BHK      1521.0   3.0   95.00    3   \n",
       "4                  Kothanur      2 BHK      1200.0   2.0   51.00    2   \n",
       "\n",
       "   price_per_sqft  \n",
       "0     3699.810606  \n",
       "1     4615.384615  \n",
       "2     4305.555556  \n",
       "3     6245.890861  \n",
       "4     4250.000000  "
      ]
     },
     "execution_count": 20,
     "metadata": {},
     "output_type": "execute_result"
    }
   ],
   "source": [
    "df5 = df4.copy()\n",
    "df5['price_per_sqft'] = df5['price']*100000/df5['total_sqft']\n",
    "df5.head()"
   ]
  },
  {
   "cell_type": "code",
   "execution_count": 21,
   "id": "9f4fd62f",
   "metadata": {
    "execution": {
     "iopub.execute_input": "2021-07-30T16:14:30.404689Z",
     "iopub.status.busy": "2021-07-30T16:14:30.404006Z",
     "iopub.status.idle": "2021-07-30T16:14:30.416759Z",
     "shell.execute_reply": "2021-07-30T16:14:30.416136Z",
     "shell.execute_reply.started": "2021-07-30T15:36:47.149201Z"
    },
    "papermill": {
     "duration": 0.09634,
     "end_time": "2021-07-30T16:14:30.416982",
     "exception": false,
     "start_time": "2021-07-30T16:14:30.320642",
     "status": "completed"
    },
    "scrolled": true,
    "tags": []
   },
   "outputs": [
    {
     "data": {
      "text/plain": [
       "count    1.320000e+04\n",
       "mean     7.920759e+03\n",
       "std      1.067272e+05\n",
       "min      2.678298e+02\n",
       "25%      4.267701e+03\n",
       "50%      5.438331e+03\n",
       "75%      7.317073e+03\n",
       "max      1.200000e+07\n",
       "Name: price_per_sqft, dtype: float64"
      ]
     },
     "execution_count": 21,
     "metadata": {},
     "output_type": "execute_result"
    }
   ],
   "source": [
    "df5_stats = df5['price_per_sqft'].describe()\n",
    "df5_stats"
   ]
  },
  {
   "cell_type": "code",
   "execution_count": 22,
   "id": "8104c1b4",
   "metadata": {
    "execution": {
     "iopub.execute_input": "2021-07-30T16:14:30.575708Z",
     "iopub.status.busy": "2021-07-30T16:14:30.574744Z",
     "iopub.status.idle": "2021-07-30T16:14:30.680458Z",
     "shell.execute_reply": "2021-07-30T16:14:30.679251Z",
     "shell.execute_reply.started": "2021-07-30T15:36:47.166403Z"
    },
    "papermill": {
     "duration": 0.186214,
     "end_time": "2021-07-30T16:14:30.680638",
     "exception": false,
     "start_time": "2021-07-30T16:14:30.494424",
     "status": "completed"
    },
    "tags": []
   },
   "outputs": [],
   "source": [
    "df5.to_csv(\"bhp.csv\",index=False)"
   ]
  },
  {
   "cell_type": "markdown",
   "id": "8111d398",
   "metadata": {
    "papermill": {
     "duration": 0.077219,
     "end_time": "2021-07-30T16:14:30.835304",
     "exception": false,
     "start_time": "2021-07-30T16:14:30.758085",
     "status": "completed"
    },
    "tags": []
   },
   "source": [
    "**EXAMINE LOCATIONS WHICH IS A CATEGORICAL VARIABLE. WE NEED TO APPLY THE DIMENSIONALITY REDUCTION TECHNIQUE HERE TO REDUCE THE NUMBER OF LOCATIONS**"
   ]
  },
  {
   "cell_type": "code",
   "execution_count": 23,
   "id": "44020b18",
   "metadata": {
    "execution": {
     "iopub.execute_input": "2021-07-30T16:14:31.007412Z",
     "iopub.status.busy": "2021-07-30T16:14:31.006722Z",
     "iopub.status.idle": "2021-07-30T16:14:31.016607Z",
     "shell.execute_reply": "2021-07-30T16:14:31.016012Z",
     "shell.execute_reply.started": "2021-07-30T15:36:47.275342Z"
    },
    "papermill": {
     "duration": 0.102669,
     "end_time": "2021-07-30T16:14:31.016770",
     "exception": false,
     "start_time": "2021-07-30T16:14:30.914101",
     "status": "completed"
    },
    "tags": []
   },
   "outputs": [
    {
     "data": {
      "text/plain": [
       "Whitefield                            533\n",
       "Sarjapur  Road                        392\n",
       "Electronic City                       304\n",
       "Kanakpura Road                        264\n",
       "Thanisandra                           235\n",
       "                                     ... \n",
       "Chokkasandra                            1\n",
       "Ring Road Nagarbhavi                    1\n",
       "Cambridge  road                         1\n",
       "Banashankari 6th stage , 2nd block      1\n",
       "Gandhi Nagar                            1\n",
       "Name: location, Length: 1287, dtype: int64"
      ]
     },
     "execution_count": 23,
     "metadata": {},
     "output_type": "execute_result"
    }
   ],
   "source": [
    "df5.location = df5.location.apply(lambda x: x.strip())\n",
    "location_stats = df5['location'].value_counts(ascending=False)\n",
    "location_stats"
   ]
  },
  {
   "cell_type": "code",
   "execution_count": 24,
   "id": "2d90371c",
   "metadata": {
    "execution": {
     "iopub.execute_input": "2021-07-30T16:14:31.178470Z",
     "iopub.status.busy": "2021-07-30T16:14:31.177680Z",
     "iopub.status.idle": "2021-07-30T16:14:31.182110Z",
     "shell.execute_reply": "2021-07-30T16:14:31.181422Z",
     "shell.execute_reply.started": "2021-07-30T15:36:47.296347Z"
    },
    "papermill": {
     "duration": 0.087351,
     "end_time": "2021-07-30T16:14:31.182256",
     "exception": false,
     "start_time": "2021-07-30T16:14:31.094905",
     "status": "completed"
    },
    "tags": []
   },
   "outputs": [
    {
     "data": {
      "text/plain": [
       "13200"
      ]
     },
     "execution_count": 24,
     "metadata": {},
     "output_type": "execute_result"
    }
   ],
   "source": [
    "location_stats.values.sum()"
   ]
  },
  {
   "cell_type": "code",
   "execution_count": 25,
   "id": "3dccc379",
   "metadata": {
    "execution": {
     "iopub.execute_input": "2021-07-30T16:14:31.345161Z",
     "iopub.status.busy": "2021-07-30T16:14:31.344440Z",
     "iopub.status.idle": "2021-07-30T16:14:31.348307Z",
     "shell.execute_reply": "2021-07-30T16:14:31.347678Z",
     "shell.execute_reply.started": "2021-07-30T15:36:47.309353Z"
    },
    "papermill": {
     "duration": 0.087784,
     "end_time": "2021-07-30T16:14:31.348451",
     "exception": false,
     "start_time": "2021-07-30T16:14:31.260667",
     "status": "completed"
    },
    "scrolled": true,
    "tags": []
   },
   "outputs": [
    {
     "data": {
      "text/plain": [
       "240"
      ]
     },
     "execution_count": 25,
     "metadata": {},
     "output_type": "execute_result"
    }
   ],
   "source": [
    "len(location_stats[location_stats>10])"
   ]
  },
  {
   "cell_type": "code",
   "execution_count": 26,
   "id": "8e2ca85b",
   "metadata": {
    "execution": {
     "iopub.execute_input": "2021-07-30T16:14:31.508116Z",
     "iopub.status.busy": "2021-07-30T16:14:31.507435Z",
     "iopub.status.idle": "2021-07-30T16:14:31.513386Z",
     "shell.execute_reply": "2021-07-30T16:14:31.512885Z",
     "shell.execute_reply.started": "2021-07-30T15:36:47.322424Z"
    },
    "papermill": {
     "duration": 0.086924,
     "end_time": "2021-07-30T16:14:31.513535",
     "exception": false,
     "start_time": "2021-07-30T16:14:31.426611",
     "status": "completed"
    },
    "tags": []
   },
   "outputs": [
    {
     "data": {
      "text/plain": [
       "1287"
      ]
     },
     "execution_count": 26,
     "metadata": {},
     "output_type": "execute_result"
    }
   ],
   "source": [
    "len(location_stats)"
   ]
  },
  {
   "cell_type": "code",
   "execution_count": 27,
   "id": "74032c1e",
   "metadata": {
    "execution": {
     "iopub.execute_input": "2021-07-30T16:14:31.678416Z",
     "iopub.status.busy": "2021-07-30T16:14:31.677457Z",
     "iopub.status.idle": "2021-07-30T16:14:31.681528Z",
     "shell.execute_reply": "2021-07-30T16:14:31.682018Z",
     "shell.execute_reply.started": "2021-07-30T15:36:47.333394Z"
    },
    "papermill": {
     "duration": 0.089589,
     "end_time": "2021-07-30T16:14:31.682196",
     "exception": false,
     "start_time": "2021-07-30T16:14:31.592607",
     "status": "completed"
    },
    "tags": []
   },
   "outputs": [
    {
     "data": {
      "text/plain": [
       "1047"
      ]
     },
     "execution_count": 27,
     "metadata": {},
     "output_type": "execute_result"
    }
   ],
   "source": [
    "len(location_stats[location_stats<=10])"
   ]
  },
  {
   "cell_type": "markdown",
   "id": "010fb61e",
   "metadata": {
    "papermill": {
     "duration": 0.079081,
     "end_time": "2021-07-30T16:14:31.840353",
     "exception": false,
     "start_time": "2021-07-30T16:14:31.761272",
     "status": "completed"
    },
    "tags": []
   },
   "source": [
    "### DIMENSIONALITY REDUCTIONS"
   ]
  },
  {
   "cell_type": "markdown",
   "id": "6108ac6a",
   "metadata": {
    "papermill": {
     "duration": 0.0816,
     "end_time": "2021-07-30T16:14:32.002036",
     "exception": false,
     "start_time": "2021-07-30T16:14:31.920436",
     "status": "completed"
    },
    "tags": []
   },
   "source": [
    "**ANY LOCATION HAVING LESS THAN 10 DATA PINTS SHOULD BE TAGGED AS \"OTHER\" LOCATION. THIS WAY NUMBER OF CATEGORIES CAN BE REDUCED BY HUGE AMOUNT. LATER ON WHEN WE DO ONE HOT ENCODING, IT WILL HELP US WITH HAVING FEWER DUMMY COLUMNS.**"
   ]
  },
  {
   "cell_type": "code",
   "execution_count": 28,
   "id": "40a4f59e",
   "metadata": {
    "execution": {
     "iopub.execute_input": "2021-07-30T16:14:32.169974Z",
     "iopub.status.busy": "2021-07-30T16:14:32.169064Z",
     "iopub.status.idle": "2021-07-30T16:14:32.173547Z",
     "shell.execute_reply": "2021-07-30T16:14:32.172938Z",
     "shell.execute_reply.started": "2021-07-30T15:36:47.348777Z"
    },
    "papermill": {
     "duration": 0.091832,
     "end_time": "2021-07-30T16:14:32.173731",
     "exception": false,
     "start_time": "2021-07-30T16:14:32.081899",
     "status": "completed"
    },
    "tags": []
   },
   "outputs": [
    {
     "data": {
      "text/plain": [
       "Thyagaraja Nagar                      10\n",
       "Naganathapura                         10\n",
       "Nagappa Reddy Layout                  10\n",
       "Dairy Circle                          10\n",
       "Gunjur Palya                          10\n",
       "                                      ..\n",
       "Chokkasandra                           1\n",
       "Ring Road Nagarbhavi                   1\n",
       "Cambridge  road                        1\n",
       "Banashankari 6th stage , 2nd block     1\n",
       "Gandhi Nagar                           1\n",
       "Name: location, Length: 1047, dtype: int64"
      ]
     },
     "execution_count": 28,
     "metadata": {},
     "output_type": "execute_result"
    }
   ],
   "source": [
    "location_stats_less_than_10 = location_stats[location_stats<=10]\n",
    "location_stats_less_than_10"
   ]
  },
  {
   "cell_type": "code",
   "execution_count": 29,
   "id": "21f4f747",
   "metadata": {
    "execution": {
     "iopub.execute_input": "2021-07-30T16:14:32.393963Z",
     "iopub.status.busy": "2021-07-30T16:14:32.392979Z",
     "iopub.status.idle": "2021-07-30T16:14:32.398603Z",
     "shell.execute_reply": "2021-07-30T16:14:32.399075Z",
     "shell.execute_reply.started": "2021-07-30T15:36:47.363517Z"
    },
    "papermill": {
     "duration": 0.145289,
     "end_time": "2021-07-30T16:14:32.399255",
     "exception": false,
     "start_time": "2021-07-30T16:14:32.253966",
     "status": "completed"
    },
    "tags": []
   },
   "outputs": [
    {
     "data": {
      "text/plain": [
       "1287"
      ]
     },
     "execution_count": 29,
     "metadata": {},
     "output_type": "execute_result"
    }
   ],
   "source": [
    "len(df5.location.unique())"
   ]
  },
  {
   "cell_type": "code",
   "execution_count": 30,
   "id": "a2da00f5",
   "metadata": {
    "execution": {
     "iopub.execute_input": "2021-07-30T16:14:32.576270Z",
     "iopub.status.busy": "2021-07-30T16:14:32.571146Z",
     "iopub.status.idle": "2021-07-30T16:14:32.595906Z",
     "shell.execute_reply": "2021-07-30T16:14:32.595344Z",
     "shell.execute_reply.started": "2021-07-30T15:36:47.377014Z"
    },
    "papermill": {
     "duration": 0.115723,
     "end_time": "2021-07-30T16:14:32.596057",
     "exception": false,
     "start_time": "2021-07-30T16:14:32.480334",
     "status": "completed"
    },
    "tags": []
   },
   "outputs": [
    {
     "data": {
      "text/plain": [
       "241"
      ]
     },
     "execution_count": 30,
     "metadata": {},
     "output_type": "execute_result"
    }
   ],
   "source": [
    "df5.location = df5.location.apply(lambda x: 'other' if x in location_stats_less_than_10 else x)\n",
    "len(df5.location.unique())"
   ]
  },
  {
   "cell_type": "code",
   "execution_count": 31,
   "id": "10df7ba2",
   "metadata": {
    "execution": {
     "iopub.execute_input": "2021-07-30T16:14:32.774342Z",
     "iopub.status.busy": "2021-07-30T16:14:32.773654Z",
     "iopub.status.idle": "2021-07-30T16:14:32.778346Z",
     "shell.execute_reply": "2021-07-30T16:14:32.777822Z",
     "shell.execute_reply.started": "2021-07-30T15:36:47.416687Z"
    },
    "papermill": {
     "duration": 0.101879,
     "end_time": "2021-07-30T16:14:32.778494",
     "exception": false,
     "start_time": "2021-07-30T16:14:32.676615",
     "status": "completed"
    },
    "scrolled": true,
    "tags": []
   },
   "outputs": [
    {
     "data": {
      "text/html": [
       "<div>\n",
       "<style scoped>\n",
       "    .dataframe tbody tr th:only-of-type {\n",
       "        vertical-align: middle;\n",
       "    }\n",
       "\n",
       "    .dataframe tbody tr th {\n",
       "        vertical-align: top;\n",
       "    }\n",
       "\n",
       "    .dataframe thead th {\n",
       "        text-align: right;\n",
       "    }\n",
       "</style>\n",
       "<table border=\"1\" class=\"dataframe\">\n",
       "  <thead>\n",
       "    <tr style=\"text-align: right;\">\n",
       "      <th></th>\n",
       "      <th>location</th>\n",
       "      <th>size</th>\n",
       "      <th>total_sqft</th>\n",
       "      <th>bath</th>\n",
       "      <th>price</th>\n",
       "      <th>bhk</th>\n",
       "      <th>price_per_sqft</th>\n",
       "    </tr>\n",
       "  </thead>\n",
       "  <tbody>\n",
       "    <tr>\n",
       "      <th>0</th>\n",
       "      <td>Electronic City Phase II</td>\n",
       "      <td>2 BHK</td>\n",
       "      <td>1056.0</td>\n",
       "      <td>2.0</td>\n",
       "      <td>39.07</td>\n",
       "      <td>2</td>\n",
       "      <td>3699.810606</td>\n",
       "    </tr>\n",
       "    <tr>\n",
       "      <th>1</th>\n",
       "      <td>Chikka Tirupathi</td>\n",
       "      <td>4 Bedroom</td>\n",
       "      <td>2600.0</td>\n",
       "      <td>5.0</td>\n",
       "      <td>120.00</td>\n",
       "      <td>4</td>\n",
       "      <td>4615.384615</td>\n",
       "    </tr>\n",
       "    <tr>\n",
       "      <th>2</th>\n",
       "      <td>Uttarahalli</td>\n",
       "      <td>3 BHK</td>\n",
       "      <td>1440.0</td>\n",
       "      <td>2.0</td>\n",
       "      <td>62.00</td>\n",
       "      <td>3</td>\n",
       "      <td>4305.555556</td>\n",
       "    </tr>\n",
       "    <tr>\n",
       "      <th>3</th>\n",
       "      <td>Lingadheeranahalli</td>\n",
       "      <td>3 BHK</td>\n",
       "      <td>1521.0</td>\n",
       "      <td>3.0</td>\n",
       "      <td>95.00</td>\n",
       "      <td>3</td>\n",
       "      <td>6245.890861</td>\n",
       "    </tr>\n",
       "    <tr>\n",
       "      <th>4</th>\n",
       "      <td>Kothanur</td>\n",
       "      <td>2 BHK</td>\n",
       "      <td>1200.0</td>\n",
       "      <td>2.0</td>\n",
       "      <td>51.00</td>\n",
       "      <td>2</td>\n",
       "      <td>4250.000000</td>\n",
       "    </tr>\n",
       "    <tr>\n",
       "      <th>5</th>\n",
       "      <td>Whitefield</td>\n",
       "      <td>2 BHK</td>\n",
       "      <td>1170.0</td>\n",
       "      <td>2.0</td>\n",
       "      <td>38.00</td>\n",
       "      <td>2</td>\n",
       "      <td>3247.863248</td>\n",
       "    </tr>\n",
       "    <tr>\n",
       "      <th>6</th>\n",
       "      <td>Old Airport Road</td>\n",
       "      <td>4 BHK</td>\n",
       "      <td>2732.0</td>\n",
       "      <td>4.0</td>\n",
       "      <td>204.00</td>\n",
       "      <td>4</td>\n",
       "      <td>7467.057101</td>\n",
       "    </tr>\n",
       "    <tr>\n",
       "      <th>7</th>\n",
       "      <td>Rajaji Nagar</td>\n",
       "      <td>4 BHK</td>\n",
       "      <td>3300.0</td>\n",
       "      <td>4.0</td>\n",
       "      <td>600.00</td>\n",
       "      <td>4</td>\n",
       "      <td>18181.818182</td>\n",
       "    </tr>\n",
       "    <tr>\n",
       "      <th>8</th>\n",
       "      <td>Marathahalli</td>\n",
       "      <td>3 BHK</td>\n",
       "      <td>1310.0</td>\n",
       "      <td>3.0</td>\n",
       "      <td>63.25</td>\n",
       "      <td>3</td>\n",
       "      <td>4828.244275</td>\n",
       "    </tr>\n",
       "    <tr>\n",
       "      <th>9</th>\n",
       "      <td>other</td>\n",
       "      <td>6 Bedroom</td>\n",
       "      <td>1020.0</td>\n",
       "      <td>6.0</td>\n",
       "      <td>370.00</td>\n",
       "      <td>6</td>\n",
       "      <td>36274.509804</td>\n",
       "    </tr>\n",
       "  </tbody>\n",
       "</table>\n",
       "</div>"
      ],
      "text/plain": [
       "                   location       size  total_sqft  bath   price  bhk  \\\n",
       "0  Electronic City Phase II      2 BHK      1056.0   2.0   39.07    2   \n",
       "1          Chikka Tirupathi  4 Bedroom      2600.0   5.0  120.00    4   \n",
       "2               Uttarahalli      3 BHK      1440.0   2.0   62.00    3   \n",
       "3        Lingadheeranahalli      3 BHK      1521.0   3.0   95.00    3   \n",
       "4                  Kothanur      2 BHK      1200.0   2.0   51.00    2   \n",
       "5                Whitefield      2 BHK      1170.0   2.0   38.00    2   \n",
       "6          Old Airport Road      4 BHK      2732.0   4.0  204.00    4   \n",
       "7              Rajaji Nagar      4 BHK      3300.0   4.0  600.00    4   \n",
       "8              Marathahalli      3 BHK      1310.0   3.0   63.25    3   \n",
       "9                     other  6 Bedroom      1020.0   6.0  370.00    6   \n",
       "\n",
       "   price_per_sqft  \n",
       "0     3699.810606  \n",
       "1     4615.384615  \n",
       "2     4305.555556  \n",
       "3     6245.890861  \n",
       "4     4250.000000  \n",
       "5     3247.863248  \n",
       "6     7467.057101  \n",
       "7    18181.818182  \n",
       "8     4828.244275  \n",
       "9    36274.509804  "
      ]
     },
     "execution_count": 31,
     "metadata": {},
     "output_type": "execute_result"
    }
   ],
   "source": [
    "df5.head(10)"
   ]
  },
  {
   "cell_type": "markdown",
   "id": "2e0e3501",
   "metadata": {
    "papermill": {
     "duration": 0.08072,
     "end_time": "2021-07-30T16:14:32.940699",
     "exception": false,
     "start_time": "2021-07-30T16:14:32.859979",
     "status": "completed"
    },
    "tags": []
   },
   "source": [
    "### OUTLIER REMOVAL USING BUSINESS LOGIC"
   ]
  },
  {
   "cell_type": "markdown",
   "id": "ca7569f7",
   "metadata": {
    "papermill": {
     "duration": 0.082062,
     "end_time": "2021-07-30T16:14:33.103947",
     "exception": false,
     "start_time": "2021-07-30T16:14:33.021885",
     "status": "completed"
    },
    "tags": []
   },
   "source": [
    "**AS A DATA SCIENTIST S A DATA SCIENTIST WHEN YOU HAVE A CONVERSATION WITH YOUR BUSINESS MANAGER (WHO HAS EXPERTISE IN REAL ESTATE), HE WILL TELL YOU THAT NORMALLY SQUARE FT PER BEDROOM IS 300 (I.E. 2 BHK APARTMENT IS MINIMUM 600 SQFT. IF YOU HAVE FOR EXAMPLE 400 SQFT APARTMENT WITH 2 BHK THAN THAT SEEMS SUSPICIOUS AND CAN BE REMOVED AS AN OUTLIER. WE WILL REMOVE SUCH OUTLIERS BY KEEPING OUR MINIMUM THRESOLD PER BHK TO BE 300 SQFT**"
   ]
  },
  {
   "cell_type": "code",
   "execution_count": 32,
   "id": "98c77b7a",
   "metadata": {
    "execution": {
     "iopub.execute_input": "2021-07-30T16:14:33.272810Z",
     "iopub.status.busy": "2021-07-30T16:14:33.271639Z",
     "iopub.status.idle": "2021-07-30T16:14:33.289388Z",
     "shell.execute_reply": "2021-07-30T16:14:33.288854Z",
     "shell.execute_reply.started": "2021-07-30T15:36:47.454281Z"
    },
    "papermill": {
     "duration": 0.104629,
     "end_time": "2021-07-30T16:14:33.289536",
     "exception": false,
     "start_time": "2021-07-30T16:14:33.184907",
     "status": "completed"
    },
    "scrolled": true,
    "tags": []
   },
   "outputs": [
    {
     "data": {
      "text/html": [
       "<div>\n",
       "<style scoped>\n",
       "    .dataframe tbody tr th:only-of-type {\n",
       "        vertical-align: middle;\n",
       "    }\n",
       "\n",
       "    .dataframe tbody tr th {\n",
       "        vertical-align: top;\n",
       "    }\n",
       "\n",
       "    .dataframe thead th {\n",
       "        text-align: right;\n",
       "    }\n",
       "</style>\n",
       "<table border=\"1\" class=\"dataframe\">\n",
       "  <thead>\n",
       "    <tr style=\"text-align: right;\">\n",
       "      <th></th>\n",
       "      <th>location</th>\n",
       "      <th>size</th>\n",
       "      <th>total_sqft</th>\n",
       "      <th>bath</th>\n",
       "      <th>price</th>\n",
       "      <th>bhk</th>\n",
       "      <th>price_per_sqft</th>\n",
       "    </tr>\n",
       "  </thead>\n",
       "  <tbody>\n",
       "    <tr>\n",
       "      <th>9</th>\n",
       "      <td>other</td>\n",
       "      <td>6 Bedroom</td>\n",
       "      <td>1020.0</td>\n",
       "      <td>6.0</td>\n",
       "      <td>370.0</td>\n",
       "      <td>6</td>\n",
       "      <td>36274.509804</td>\n",
       "    </tr>\n",
       "    <tr>\n",
       "      <th>45</th>\n",
       "      <td>HSR Layout</td>\n",
       "      <td>8 Bedroom</td>\n",
       "      <td>600.0</td>\n",
       "      <td>9.0</td>\n",
       "      <td>200.0</td>\n",
       "      <td>8</td>\n",
       "      <td>33333.333333</td>\n",
       "    </tr>\n",
       "    <tr>\n",
       "      <th>58</th>\n",
       "      <td>Murugeshpalya</td>\n",
       "      <td>6 Bedroom</td>\n",
       "      <td>1407.0</td>\n",
       "      <td>4.0</td>\n",
       "      <td>150.0</td>\n",
       "      <td>6</td>\n",
       "      <td>10660.980810</td>\n",
       "    </tr>\n",
       "    <tr>\n",
       "      <th>68</th>\n",
       "      <td>Devarachikkanahalli</td>\n",
       "      <td>8 Bedroom</td>\n",
       "      <td>1350.0</td>\n",
       "      <td>7.0</td>\n",
       "      <td>85.0</td>\n",
       "      <td>8</td>\n",
       "      <td>6296.296296</td>\n",
       "    </tr>\n",
       "    <tr>\n",
       "      <th>70</th>\n",
       "      <td>other</td>\n",
       "      <td>3 Bedroom</td>\n",
       "      <td>500.0</td>\n",
       "      <td>3.0</td>\n",
       "      <td>100.0</td>\n",
       "      <td>3</td>\n",
       "      <td>20000.000000</td>\n",
       "    </tr>\n",
       "  </tbody>\n",
       "</table>\n",
       "</div>"
      ],
      "text/plain": [
       "               location       size  total_sqft  bath  price  bhk  \\\n",
       "9                 other  6 Bedroom      1020.0   6.0  370.0    6   \n",
       "45           HSR Layout  8 Bedroom       600.0   9.0  200.0    8   \n",
       "58        Murugeshpalya  6 Bedroom      1407.0   4.0  150.0    6   \n",
       "68  Devarachikkanahalli  8 Bedroom      1350.0   7.0   85.0    8   \n",
       "70                other  3 Bedroom       500.0   3.0  100.0    3   \n",
       "\n",
       "    price_per_sqft  \n",
       "9     36274.509804  \n",
       "45    33333.333333  \n",
       "58    10660.980810  \n",
       "68     6296.296296  \n",
       "70    20000.000000  "
      ]
     },
     "execution_count": 32,
     "metadata": {},
     "output_type": "execute_result"
    }
   ],
   "source": [
    "df5[df5.total_sqft/df5.bhk<300].head()"
   ]
  },
  {
   "cell_type": "markdown",
   "id": "949b949f",
   "metadata": {
    "papermill": {
     "duration": 0.081543,
     "end_time": "2021-07-30T16:14:33.452902",
     "exception": false,
     "start_time": "2021-07-30T16:14:33.371359",
     "status": "completed"
    },
    "tags": []
   },
   "source": [
    "**CHECK THE ABOVE DATA POINTS. WE HAVE 6 BHK APARTMENTS WITH 1020 SQFT. ANOTHER ONE IS 8 BHK AND THE TOTAL SQFT IS 600. THESE ARE CLEAR DATA ERRORS THAT CAN BE REMOVED SAFELY**"
   ]
  },
  {
   "cell_type": "code",
   "execution_count": 33,
   "id": "998e2f70",
   "metadata": {
    "execution": {
     "iopub.execute_input": "2021-07-30T16:14:33.621912Z",
     "iopub.status.busy": "2021-07-30T16:14:33.621035Z",
     "iopub.status.idle": "2021-07-30T16:14:33.625346Z",
     "shell.execute_reply": "2021-07-30T16:14:33.624690Z",
     "shell.execute_reply.started": "2021-07-30T15:36:47.485643Z"
    },
    "papermill": {
     "duration": 0.091191,
     "end_time": "2021-07-30T16:14:33.625492",
     "exception": false,
     "start_time": "2021-07-30T16:14:33.534301",
     "status": "completed"
    },
    "tags": []
   },
   "outputs": [
    {
     "data": {
      "text/plain": [
       "(13200, 7)"
      ]
     },
     "execution_count": 33,
     "metadata": {},
     "output_type": "execute_result"
    }
   ],
   "source": [
    "df5.shape"
   ]
  },
  {
   "cell_type": "code",
   "execution_count": 34,
   "id": "a1ece3f8",
   "metadata": {
    "execution": {
     "iopub.execute_input": "2021-07-30T16:14:33.798591Z",
     "iopub.status.busy": "2021-07-30T16:14:33.797480Z",
     "iopub.status.idle": "2021-07-30T16:14:33.807045Z",
     "shell.execute_reply": "2021-07-30T16:14:33.806289Z",
     "shell.execute_reply.started": "2021-07-30T15:36:47.495758Z"
    },
    "papermill": {
     "duration": 0.097761,
     "end_time": "2021-07-30T16:14:33.807219",
     "exception": false,
     "start_time": "2021-07-30T16:14:33.709458",
     "status": "completed"
    },
    "scrolled": true,
    "tags": []
   },
   "outputs": [
    {
     "data": {
      "text/plain": [
       "(12456, 7)"
      ]
     },
     "execution_count": 34,
     "metadata": {},
     "output_type": "execute_result"
    }
   ],
   "source": [
    "df6 = df5[~(df5.total_sqft/df5.bhk<300)]\n",
    "df6.shape"
   ]
  },
  {
   "cell_type": "markdown",
   "id": "0aae13ab",
   "metadata": {
    "papermill": {
     "duration": 0.08229,
     "end_time": "2021-07-30T16:14:33.973226",
     "exception": false,
     "start_time": "2021-07-30T16:14:33.890936",
     "status": "completed"
    },
    "tags": []
   },
   "source": [
    "### OUTLIER REMOVAL USING STANDARD DEVIATION AND MEAN"
   ]
  },
  {
   "cell_type": "code",
   "execution_count": 35,
   "id": "598c5ccb",
   "metadata": {
    "execution": {
     "iopub.execute_input": "2021-07-30T16:14:34.149163Z",
     "iopub.status.busy": "2021-07-30T16:14:34.143935Z",
     "iopub.status.idle": "2021-07-30T16:14:34.154126Z",
     "shell.execute_reply": "2021-07-30T16:14:34.153597Z",
     "shell.execute_reply.started": "2021-07-30T15:36:47.510237Z"
    },
    "papermill": {
     "duration": 0.098831,
     "end_time": "2021-07-30T16:14:34.154273",
     "exception": false,
     "start_time": "2021-07-30T16:14:34.055442",
     "status": "completed"
    },
    "tags": []
   },
   "outputs": [
    {
     "data": {
      "text/plain": [
       "count     12456.000000\n",
       "mean       6308.502826\n",
       "std        4168.127339\n",
       "min         267.829813\n",
       "25%        4210.526316\n",
       "50%        5294.117647\n",
       "75%        6916.666667\n",
       "max      176470.588235\n",
       "Name: price_per_sqft, dtype: float64"
      ]
     },
     "execution_count": 35,
     "metadata": {},
     "output_type": "execute_result"
    }
   ],
   "source": [
    "df6.price_per_sqft.describe()"
   ]
  },
  {
   "cell_type": "markdown",
   "id": "0e0730d4",
   "metadata": {
    "papermill": {
     "duration": 0.083595,
     "end_time": "2021-07-30T16:14:34.321735",
     "exception": false,
     "start_time": "2021-07-30T16:14:34.238140",
     "status": "completed"
    },
    "tags": []
   },
   "source": [
    "**HERE WE FIND THAT MIN PRICE PER SQFT IS 267 RS/SQFT WHEREAS MAX IS 12000000, THIS SHOWS A WIDE VARIATION IN PROPERTY PRICES. WE SHOULD REMOVE OUTLIERS PER LOCATION USING MEAN AND ONE STANDARD DEVIATION**"
   ]
  },
  {
   "cell_type": "code",
   "execution_count": 36,
   "id": "46006c6e",
   "metadata": {
    "execution": {
     "iopub.execute_input": "2021-07-30T16:14:34.497319Z",
     "iopub.status.busy": "2021-07-30T16:14:34.496486Z",
     "iopub.status.idle": "2021-07-30T16:14:35.220767Z",
     "shell.execute_reply": "2021-07-30T16:14:35.220067Z",
     "shell.execute_reply.started": "2021-07-30T15:36:47.526290Z"
    },
    "papermill": {
     "duration": 0.816651,
     "end_time": "2021-07-30T16:14:35.220914",
     "exception": false,
     "start_time": "2021-07-30T16:14:34.404263",
     "status": "completed"
    },
    "tags": []
   },
   "outputs": [
    {
     "data": {
      "text/plain": [
       "(10242, 7)"
      ]
     },
     "execution_count": 36,
     "metadata": {},
     "output_type": "execute_result"
    }
   ],
   "source": [
    "def remove_pps_outliers(df):\n",
    "    df_out = pd.DataFrame()\n",
    "    for key, subdf in df.groupby('location'):\n",
    "        m = np.mean(subdf.price_per_sqft)\n",
    "        st = np.std(subdf.price_per_sqft)\n",
    "        reduced_df = subdf[(subdf.price_per_sqft>(m-st)) & (subdf.price_per_sqft<=(m+st))]\n",
    "        df_out = pd.concat([df_out,reduced_df],ignore_index=True)\n",
    "    return df_out\n",
    "df7 = remove_pps_outliers(df6)\n",
    "df7.shape"
   ]
  },
  {
   "cell_type": "markdown",
   "id": "64571be5",
   "metadata": {
    "papermill": {
     "duration": 0.109,
     "end_time": "2021-07-30T16:14:35.412924",
     "exception": false,
     "start_time": "2021-07-30T16:14:35.303924",
     "status": "completed"
    },
    "tags": []
   },
   "source": [
    "**LET'S CHECK IF FOR A GIVEN LOCATION HOW DOES THE 2 BHK AND 3 BHK PROPERTY PRICES LOOK LIKE**"
   ]
  },
  {
   "cell_type": "code",
   "execution_count": 37,
   "id": "94c4823a",
   "metadata": {
    "execution": {
     "iopub.execute_input": "2021-07-30T16:14:35.592544Z",
     "iopub.status.busy": "2021-07-30T16:14:35.591879Z",
     "iopub.status.idle": "2021-07-30T16:14:35.901404Z",
     "shell.execute_reply": "2021-07-30T16:14:35.900837Z",
     "shell.execute_reply.started": "2021-07-30T15:36:48.189924Z"
    },
    "papermill": {
     "duration": 0.403134,
     "end_time": "2021-07-30T16:14:35.901564",
     "exception": false,
     "start_time": "2021-07-30T16:14:35.498430",
     "status": "completed"
    },
    "tags": []
   },
   "outputs": [
    {
     "data": {
      "image/png": "[encoded data removed]",
      "text/plain": [
       "<Figure size 1080x720 with 1 Axes>"
      ]
     },
     "metadata": {
      "needs_background": "light"
     },
     "output_type": "display_data"
    }
   ],
   "source": [
    "def plot_scatter_chart(df,location):\n",
    "    bhk2 = df[(df.location==location) & (df.bhk==2)]\n",
    "    bhk3 = df[(df.location==location) & (df.bhk==3)]\n",
    "    matplotlib.rcParams['figure.figsize'] = (15,10)\n",
    "    plt.scatter(bhk2.total_sqft,bhk2.price,color='blue',label='2 BHK', s=50)\n",
    "    plt.scatter(bhk3.total_sqft,bhk3.price,marker='+', color='green',label='3 BHK', s=50)\n",
    "    plt.xlabel(\"Total Square Feet Area\")\n",
    "    plt.ylabel(\"Price (Lakh Indian Rupees)\")\n",
    "    plt.title(location)\n",
    "    plt.legend()\n",
    "    \n",
    "plot_scatter_chart(df7,\"Rajaji Nagar\")"
   ]
  },
  {
   "cell_type": "code",
   "execution_count": 38,
   "id": "29e535a3",
   "metadata": {
    "execution": {
     "iopub.execute_input": "2021-07-30T16:14:36.107510Z",
     "iopub.status.busy": "2021-07-30T16:14:36.106813Z",
     "iopub.status.idle": "2021-07-30T16:14:36.328018Z",
     "shell.execute_reply": "2021-07-30T16:14:36.327437Z",
     "shell.execute_reply.started": "2021-07-30T15:36:48.515033Z"
    },
    "papermill": {
     "duration": 0.340565,
     "end_time": "2021-07-30T16:14:36.328187",
     "exception": false,
     "start_time": "2021-07-30T16:14:35.987622",
     "status": "completed"
    },
    "tags": []
   },
   "outputs": [
    {
     "data": {
      "image/png": "[encoded data removed]",
      "text/plain": [
       "<Figure size 1080x720 with 1 Axes>"
      ]
     },
     "metadata": {
      "needs_background": "light"
     },
     "output_type": "display_data"
    }
   ],
   "source": [
    "plot_scatter_chart(df7,\"Hebbal\")"
   ]
  },
  {
   "cell_type": "markdown",
   "id": "f8d07ef1",
   "metadata": {
    "papermill": {
     "duration": 0.08748,
     "end_time": "2021-07-30T16:14:36.502823",
     "exception": false,
     "start_time": "2021-07-30T16:14:36.415343",
     "status": "completed"
    },
    "tags": []
   },
   "source": [
    "**WE SHOULD ALSO REMOVE PROPERTIES WHERE FOR THE SAME LOCATION, THE PRICE OF (FOR EXAMPLE) A 3 BEDROOM APARTMENT IS LESS THAN A 2 BEDROOM APARTMENT (WITH THE SAME SQUARE FT AREA). WHAT WE WILL DO IS FOR A GIVEN LOCATION, WE WILL BUILD A DICTIONARY OF STATS PER BHK, I.E.**\n",
    "```\n",
    "{\n",
    "    '1' : {\n",
    "        'mean': 4000,\n",
    "        'std: 2000,\n",
    "        'count': 34\n",
    "    },\n",
    "    '2' : {\n",
    "        'mean': 4300,\n",
    "        'std: 2300,\n",
    "        'count': 22\n",
    "    },    \n",
    "}\n",
    "```\n",
    "**NOW WE CAN REMOVE THOSE 2 BHK APARTMENTS WHOSE PRICE_PER_SQFT IS LESS THAN THE MEAN PRICE_PER_SQFT OF 1 BHK APARTMENT**"
   ]
  },
  {
   "cell_type": "code",
   "execution_count": 39,
   "id": "aa0c9fa1",
   "metadata": {
    "execution": {
     "iopub.execute_input": "2021-07-30T16:14:36.684542Z",
     "iopub.status.busy": "2021-07-30T16:14:36.683865Z",
     "iopub.status.idle": "2021-07-30T16:14:37.512621Z",
     "shell.execute_reply": "2021-07-30T16:14:37.512068Z",
     "shell.execute_reply.started": "2021-07-30T15:36:48.768483Z"
    },
    "papermill": {
     "duration": 0.923406,
     "end_time": "2021-07-30T16:14:37.512767",
     "exception": false,
     "start_time": "2021-07-30T16:14:36.589361",
     "status": "completed"
    },
    "tags": []
   },
   "outputs": [
    {
     "data": {
      "text/plain": [
       "(7317, 7)"
      ]
     },
     "execution_count": 39,
     "metadata": {},
     "output_type": "execute_result"
    }
   ],
   "source": [
    "def remove_bhk_outliers(df):\n",
    "    exclude_indices = np.array([])\n",
    "    for location, location_df in df.groupby('location'):\n",
    "        bhk_stats = {}\n",
    "        for bhk, bhk_df in location_df.groupby('bhk'):\n",
    "            bhk_stats[bhk] = {\n",
    "                'mean': np.mean(bhk_df.price_per_sqft),\n",
    "                'std': np.std(bhk_df.price_per_sqft),\n",
    "                'count': bhk_df.shape[0]\n",
    "            }\n",
    "        for bhk, bhk_df in location_df.groupby('bhk'):\n",
    "            stats = bhk_stats.get(bhk-1)\n",
    "            if stats and stats['count']>5:\n",
    "                exclude_indices = np.append(exclude_indices, bhk_df[bhk_df.price_per_sqft<(stats['mean'])].index.values)\n",
    "    return df.drop(exclude_indices,axis='index')\n",
    "df8 = remove_bhk_outliers(df7)\n",
    "# df8 = df7.copy()\n",
    "df8.shape"
   ]
  },
  {
   "cell_type": "markdown",
   "id": "f33ac0df",
   "metadata": {
    "papermill": {
     "duration": 0.085836,
     "end_time": "2021-07-30T16:14:37.684635",
     "exception": false,
     "start_time": "2021-07-30T16:14:37.598799",
     "status": "completed"
    },
    "tags": []
   },
   "source": [
    "**PLOT SAME SCATTER CHART AGAIN TO VISUALIZE PRICE_PER_SQFT FOR 2 BHK AND 3 BHK PROPERTIES**"
   ]
  },
  {
   "cell_type": "code",
   "execution_count": 40,
   "id": "5fdca181",
   "metadata": {
    "execution": {
     "iopub.execute_input": "2021-07-30T16:14:37.885712Z",
     "iopub.status.busy": "2021-07-30T16:14:37.885032Z",
     "iopub.status.idle": "2021-07-30T16:14:38.128019Z",
     "shell.execute_reply": "2021-07-30T16:14:38.128537Z",
     "shell.execute_reply.started": "2021-07-30T15:36:49.589363Z"
    },
    "papermill": {
     "duration": 0.358057,
     "end_time": "2021-07-30T16:14:38.128738",
     "exception": false,
     "start_time": "2021-07-30T16:14:37.770681",
     "status": "completed"
    },
    "tags": []
   },
   "outputs": [
    {
     "data": {
      "image/png": "[encoded data removed]",
      "text/plain": [
       "<Figure size 1080x720 with 1 Axes>"
      ]
     },
     "metadata": {
      "needs_background": "light"
     },
     "output_type": "display_data"
    }
   ],
   "source": [
    "plot_scatter_chart(df8,\"Rajaji Nagar\")"
   ]
  },
  {
   "cell_type": "code",
   "execution_count": 41,
   "id": "20f72206",
   "metadata": {
    "execution": {
     "iopub.execute_input": "2021-07-30T16:14:38.328118Z",
     "iopub.status.busy": "2021-07-30T16:14:38.311953Z",
     "iopub.status.idle": "2021-07-30T16:14:38.563694Z",
     "shell.execute_reply": "2021-07-30T16:14:38.564237Z",
     "shell.execute_reply.started": "2021-07-30T15:36:49.865580Z"
    },
    "papermill": {
     "duration": 0.348903,
     "end_time": "2021-07-30T16:14:38.564410",
     "exception": false,
     "start_time": "2021-07-30T16:14:38.215507",
     "status": "completed"
    },
    "scrolled": true,
    "tags": []
   },
   "outputs": [
    {
     "data": {
      "image/png": "[encoded data removed]",
      "text/plain": [
       "<Figure size 1080x720 with 1 Axes>"
      ]
     },
     "metadata": {
      "needs_background": "light"
     },
     "output_type": "display_data"
    }
   ],
   "source": [
    "plot_scatter_chart(df8,\"Hebbal\")"
   ]
  },
  {
   "cell_type": "markdown",
   "id": "ec7f5ccf",
   "metadata": {
    "papermill": {
     "duration": 0.086859,
     "end_time": "2021-07-30T16:14:38.738332",
     "exception": false,
     "start_time": "2021-07-30T16:14:38.651473",
     "status": "completed"
    },
    "tags": []
   },
   "source": [
    "**BASED ON ABOVE CHARTS WE CAN SEE THAT DATA POINTS HIGHLIGHTED IN RED BELOW ARE OUTLIERS AND THEY ARE BEING REMOVED DUE TO REMOVE_BHK_OUTLIERS FUNCTION**"
   ]
  },
  {
   "cell_type": "markdown",
   "id": "9ec125cd",
   "metadata": {
    "papermill": {
     "duration": 0.087802,
     "end_time": "2021-07-30T16:14:38.913855",
     "exception": false,
     "start_time": "2021-07-30T16:14:38.826053",
     "status": "completed"
    },
    "tags": []
   },
   "source": [
    "### BEFORE AND AFTER OUTLIER REMOVAL: RAJAJI NAGAR"
   ]
  },
  {
   "cell_type": "markdown",
   "id": "2b87294a",
   "metadata": {
    "papermill": {
     "duration": 0.086752,
     "end_time": "2021-07-30T16:14:39.088706",
     "exception": false,
     "start_time": "2021-07-30T16:14:39.001954",
     "status": "completed"
    },
    "tags": []
   },
   "source": [
    "<img src=\"rajaji_nagar_outliers.png\"></img>"
   ]
  },
  {
   "cell_type": "markdown",
   "id": "2c7eb8a6",
   "metadata": {
    "papermill": {
     "duration": 0.086787,
     "end_time": "2021-07-30T16:14:39.262557",
     "exception": false,
     "start_time": "2021-07-30T16:14:39.175770",
     "status": "completed"
    },
    "tags": []
   },
   "source": [
    "### BEFORE AND AFTER OUTLIER REMOVAL: HEBBAL"
   ]
  },
  {
   "cell_type": "markdown",
   "id": "b3783936",
   "metadata": {
    "papermill": {
     "duration": 0.087163,
     "end_time": "2021-07-30T16:14:39.436758",
     "exception": false,
     "start_time": "2021-07-30T16:14:39.349595",
     "status": "completed"
    },
    "tags": []
   },
   "source": [
    "<img src=\"hebbal_outliers.png\"></img>"
   ]
  },
  {
   "cell_type": "code",
   "execution_count": 42,
   "id": "449881ee",
   "metadata": {
    "execution": {
     "iopub.execute_input": "2021-07-30T16:14:39.613767Z",
     "iopub.status.busy": "2021-07-30T16:14:39.613102Z",
     "iopub.status.idle": "2021-07-30T16:14:39.823610Z",
     "shell.execute_reply": "2021-07-30T16:14:39.824197Z",
     "shell.execute_reply.started": "2021-07-30T15:36:50.127842Z"
    },
    "papermill": {
     "duration": 0.300558,
     "end_time": "2021-07-30T16:14:39.824383",
     "exception": false,
     "start_time": "2021-07-30T16:14:39.523825",
     "status": "completed"
    },
    "tags": []
   },
   "outputs": [
    {
     "data": {
      "text/plain": [
       "Text(0, 0.5, 'Count')"
      ]
     },
     "execution_count": 42,
     "metadata": {},
     "output_type": "execute_result"
    },
    {
     "data": {
      "image/png": "[encoded data removed]",
      "text/plain": [
       "<Figure size 1440x720 with 1 Axes>"
      ]
     },
     "metadata": {
      "needs_background": "light"
     },
     "output_type": "display_data"
    }
   ],
   "source": [
    "import matplotlib\n",
    "matplotlib.rcParams[\"figure.figsize\"] = (20,10)\n",
    "plt.hist(df8.price_per_sqft,rwidth=0.8)\n",
    "plt.xlabel(\"Price Per Square Feet\")\n",
    "plt.ylabel(\"Count\")"
   ]
  },
  {
   "cell_type": "markdown",
   "id": "8b38eb25",
   "metadata": {
    "papermill": {
     "duration": 0.088398,
     "end_time": "2021-07-30T16:14:40.002283",
     "exception": false,
     "start_time": "2021-07-30T16:14:39.913885",
     "status": "completed"
    },
    "tags": []
   },
   "source": [
    "### OUTLIER REMOVAL USING BATHROOMS FEATURE"
   ]
  },
  {
   "cell_type": "code",
   "execution_count": 43,
   "id": "c7a9cae0",
   "metadata": {
    "execution": {
     "iopub.execute_input": "2021-07-30T16:14:40.186541Z",
     "iopub.status.busy": "2021-07-30T16:14:40.185908Z",
     "iopub.status.idle": "2021-07-30T16:14:40.188961Z",
     "shell.execute_reply": "2021-07-30T16:14:40.189537Z",
     "shell.execute_reply.started": "2021-07-30T15:36:50.343399Z"
    },
    "papermill": {
     "duration": 0.097699,
     "end_time": "2021-07-30T16:14:40.189733",
     "exception": false,
     "start_time": "2021-07-30T16:14:40.092034",
     "status": "completed"
    },
    "tags": []
   },
   "outputs": [
    {
     "data": {
      "text/plain": [
       "array([ 4.,  3.,  2.,  5.,  8.,  1.,  6.,  7.,  9., 12., 16., 13.])"
      ]
     },
     "execution_count": 43,
     "metadata": {},
     "output_type": "execute_result"
    }
   ],
   "source": [
    "df8.bath.unique()"
   ]
  },
  {
   "cell_type": "code",
   "execution_count": 44,
   "id": "651be3be",
   "metadata": {
    "execution": {
     "iopub.execute_input": "2021-07-30T16:14:40.396718Z",
     "iopub.status.busy": "2021-07-30T16:14:40.396026Z",
     "iopub.status.idle": "2021-07-30T16:14:40.594164Z",
     "shell.execute_reply": "2021-07-30T16:14:40.593147Z",
     "shell.execute_reply.started": "2021-07-30T15:36:50.352074Z"
    },
    "papermill": {
     "duration": 0.316532,
     "end_time": "2021-07-30T16:14:40.594332",
     "exception": false,
     "start_time": "2021-07-30T16:14:40.277800",
     "status": "completed"
    },
    "tags": []
   },
   "outputs": [
    {
     "data": {
      "text/plain": [
       "Text(0, 0.5, 'Count')"
      ]
     },
     "execution_count": 44,
     "metadata": {},
     "output_type": "execute_result"
    },
    {
     "data": {
      "image/png": "[encoded data removed]",
      "text/plain": [
       "<Figure size 1440x720 with 1 Axes>"
      ]
     },
     "metadata": {
      "needs_background": "light"
     },
     "output_type": "display_data"
    }
   ],
   "source": [
    "plt.hist(df8.bath,rwidth=0.8)\n",
    "plt.xlabel(\"Number of bathrooms\")\n",
    "plt.ylabel(\"Count\")"
   ]
  },
  {
   "cell_type": "code",
   "execution_count": 45,
   "id": "39ecd7da",
   "metadata": {
    "execution": {
     "iopub.execute_input": "2021-07-30T16:14:40.827227Z",
     "iopub.status.busy": "2021-07-30T16:14:40.826290Z",
     "iopub.status.idle": "2021-07-30T16:14:40.840083Z",
     "shell.execute_reply": "2021-07-30T16:14:40.838707Z",
     "shell.execute_reply.started": "2021-07-30T15:36:50.576506Z"
    },
    "papermill": {
     "duration": 0.133595,
     "end_time": "2021-07-30T16:14:40.840360",
     "exception": false,
     "start_time": "2021-07-30T16:14:40.706765",
     "status": "completed"
    },
    "tags": []
   },
   "outputs": [
    {
     "data": {
      "text/html": [
       "<div>\n",
       "<style scoped>\n",
       "    .dataframe tbody tr th:only-of-type {\n",
       "        vertical-align: middle;\n",
       "    }\n",
       "\n",
       "    .dataframe tbody tr th {\n",
       "        vertical-align: top;\n",
       "    }\n",
       "\n",
       "    .dataframe thead th {\n",
       "        text-align: right;\n",
       "    }\n",
       "</style>\n",
       "<table border=\"1\" class=\"dataframe\">\n",
       "  <thead>\n",
       "    <tr style=\"text-align: right;\">\n",
       "      <th></th>\n",
       "      <th>location</th>\n",
       "      <th>size</th>\n",
       "      <th>total_sqft</th>\n",
       "      <th>bath</th>\n",
       "      <th>price</th>\n",
       "      <th>bhk</th>\n",
       "      <th>price_per_sqft</th>\n",
       "    </tr>\n",
       "  </thead>\n",
       "  <tbody>\n",
       "    <tr>\n",
       "      <th>5277</th>\n",
       "      <td>Neeladri Nagar</td>\n",
       "      <td>10 BHK</td>\n",
       "      <td>4000.0</td>\n",
       "      <td>12.0</td>\n",
       "      <td>160.0</td>\n",
       "      <td>10</td>\n",
       "      <td>4000.000000</td>\n",
       "    </tr>\n",
       "    <tr>\n",
       "      <th>8483</th>\n",
       "      <td>other</td>\n",
       "      <td>10 BHK</td>\n",
       "      <td>12000.0</td>\n",
       "      <td>12.0</td>\n",
       "      <td>525.0</td>\n",
       "      <td>10</td>\n",
       "      <td>4375.000000</td>\n",
       "    </tr>\n",
       "    <tr>\n",
       "      <th>8572</th>\n",
       "      <td>other</td>\n",
       "      <td>16 BHK</td>\n",
       "      <td>10000.0</td>\n",
       "      <td>16.0</td>\n",
       "      <td>550.0</td>\n",
       "      <td>16</td>\n",
       "      <td>5500.000000</td>\n",
       "    </tr>\n",
       "    <tr>\n",
       "      <th>9306</th>\n",
       "      <td>other</td>\n",
       "      <td>11 BHK</td>\n",
       "      <td>6000.0</td>\n",
       "      <td>12.0</td>\n",
       "      <td>150.0</td>\n",
       "      <td>11</td>\n",
       "      <td>2500.000000</td>\n",
       "    </tr>\n",
       "    <tr>\n",
       "      <th>9637</th>\n",
       "      <td>other</td>\n",
       "      <td>13 BHK</td>\n",
       "      <td>5425.0</td>\n",
       "      <td>13.0</td>\n",
       "      <td>275.0</td>\n",
       "      <td>13</td>\n",
       "      <td>5069.124424</td>\n",
       "    </tr>\n",
       "  </tbody>\n",
       "</table>\n",
       "</div>"
      ],
      "text/plain": [
       "            location    size  total_sqft  bath  price  bhk  price_per_sqft\n",
       "5277  Neeladri Nagar  10 BHK      4000.0  12.0  160.0   10     4000.000000\n",
       "8483           other  10 BHK     12000.0  12.0  525.0   10     4375.000000\n",
       "8572           other  16 BHK     10000.0  16.0  550.0   16     5500.000000\n",
       "9306           other  11 BHK      6000.0  12.0  150.0   11     2500.000000\n",
       "9637           other  13 BHK      5425.0  13.0  275.0   13     5069.124424"
      ]
     },
     "execution_count": 45,
     "metadata": {},
     "output_type": "execute_result"
    }
   ],
   "source": [
    "df8[df8.bath>10]"
   ]
  },
  {
   "cell_type": "markdown",
   "id": "7f8cc0e5",
   "metadata": {
    "papermill": {
     "duration": 0.092978,
     "end_time": "2021-07-30T16:14:41.041517",
     "exception": false,
     "start_time": "2021-07-30T16:14:40.948539",
     "status": "completed"
    },
    "tags": []
   },
   "source": [
    "**IT IS UNUSUAL TO HAVE 2 MORE BATHROOMS THAN NUMBER OF BEDROOMS IN A HOME**"
   ]
  },
  {
   "cell_type": "code",
   "execution_count": 46,
   "id": "b348cf1b",
   "metadata": {
    "execution": {
     "iopub.execute_input": "2021-07-30T16:14:41.242012Z",
     "iopub.status.busy": "2021-07-30T16:14:41.240963Z",
     "iopub.status.idle": "2021-07-30T16:14:41.246006Z",
     "shell.execute_reply": "2021-07-30T16:14:41.245399Z",
     "shell.execute_reply.started": "2021-07-30T15:36:50.596981Z"
    },
    "papermill": {
     "duration": 0.111991,
     "end_time": "2021-07-30T16:14:41.246163",
     "exception": false,
     "start_time": "2021-07-30T16:14:41.134172",
     "status": "completed"
    },
    "tags": []
   },
   "outputs": [
    {
     "data": {
      "text/html": [
       "<div>\n",
       "<style scoped>\n",
       "    .dataframe tbody tr th:only-of-type {\n",
       "        vertical-align: middle;\n",
       "    }\n",
       "\n",
       "    .dataframe tbody tr th {\n",
       "        vertical-align: top;\n",
       "    }\n",
       "\n",
       "    .dataframe thead th {\n",
       "        text-align: right;\n",
       "    }\n",
       "</style>\n",
       "<table border=\"1\" class=\"dataframe\">\n",
       "  <thead>\n",
       "    <tr style=\"text-align: right;\">\n",
       "      <th></th>\n",
       "      <th>location</th>\n",
       "      <th>size</th>\n",
       "      <th>total_sqft</th>\n",
       "      <th>bath</th>\n",
       "      <th>price</th>\n",
       "      <th>bhk</th>\n",
       "      <th>price_per_sqft</th>\n",
       "    </tr>\n",
       "  </thead>\n",
       "  <tbody>\n",
       "    <tr>\n",
       "      <th>1626</th>\n",
       "      <td>Chikkabanavar</td>\n",
       "      <td>4 Bedroom</td>\n",
       "      <td>2460.0</td>\n",
       "      <td>7.0</td>\n",
       "      <td>80.0</td>\n",
       "      <td>4</td>\n",
       "      <td>3252.032520</td>\n",
       "    </tr>\n",
       "    <tr>\n",
       "      <th>5238</th>\n",
       "      <td>Nagasandra</td>\n",
       "      <td>4 Bedroom</td>\n",
       "      <td>7000.0</td>\n",
       "      <td>8.0</td>\n",
       "      <td>450.0</td>\n",
       "      <td>4</td>\n",
       "      <td>6428.571429</td>\n",
       "    </tr>\n",
       "    <tr>\n",
       "      <th>6711</th>\n",
       "      <td>Thanisandra</td>\n",
       "      <td>3 BHK</td>\n",
       "      <td>1806.0</td>\n",
       "      <td>6.0</td>\n",
       "      <td>116.0</td>\n",
       "      <td>3</td>\n",
       "      <td>6423.034330</td>\n",
       "    </tr>\n",
       "    <tr>\n",
       "      <th>8408</th>\n",
       "      <td>other</td>\n",
       "      <td>6 BHK</td>\n",
       "      <td>11338.0</td>\n",
       "      <td>9.0</td>\n",
       "      <td>1000.0</td>\n",
       "      <td>6</td>\n",
       "      <td>8819.897689</td>\n",
       "    </tr>\n",
       "  </tbody>\n",
       "</table>\n",
       "</div>"
      ],
      "text/plain": [
       "           location       size  total_sqft  bath   price  bhk  price_per_sqft\n",
       "1626  Chikkabanavar  4 Bedroom      2460.0   7.0    80.0    4     3252.032520\n",
       "5238     Nagasandra  4 Bedroom      7000.0   8.0   450.0    4     6428.571429\n",
       "6711    Thanisandra      3 BHK      1806.0   6.0   116.0    3     6423.034330\n",
       "8408          other      6 BHK     11338.0   9.0  1000.0    6     8819.897689"
      ]
     },
     "execution_count": 46,
     "metadata": {},
     "output_type": "execute_result"
    }
   ],
   "source": [
    "df8[df8.bath>df8.bhk+2]"
   ]
  },
  {
   "cell_type": "markdown",
   "id": "c27aeac3",
   "metadata": {
    "papermill": {
     "duration": 0.089809,
     "end_time": "2021-07-30T16:14:41.430324",
     "exception": false,
     "start_time": "2021-07-30T16:14:41.340515",
     "status": "completed"
    },
    "tags": []
   },
   "source": [
    "**AGAIN THE BUSINESS MANAGER HAS A CONVERSATION WITH YOU (I.E. A DATA SCIENTIST) THAT IF YOU HAVE A 4 BEDROOM HOME AND EVEN IF YOU HAVE A BATHROOM IN ALL 4 ROOMS PLUS ONE GUEST BATHROOM, YOU WILL HAVE A TOTAL BATH = TOTAL BED + 1 MAX. ANYTHING ABOVE THAT IS AN OUTLIER OR A DATA ERROR AND CAN BE REMOVED**"
   ]
  },
  {
   "cell_type": "code",
   "execution_count": 47,
   "id": "26de428e",
   "metadata": {
    "execution": {
     "iopub.execute_input": "2021-07-30T16:14:41.618335Z",
     "iopub.status.busy": "2021-07-30T16:14:41.616394Z",
     "iopub.status.idle": "2021-07-30T16:14:41.623315Z",
     "shell.execute_reply": "2021-07-30T16:14:41.622658Z",
     "shell.execute_reply.started": "2021-07-30T15:36:50.619714Z"
    },
    "papermill": {
     "duration": 0.102754,
     "end_time": "2021-07-30T16:14:41.623463",
     "exception": false,
     "start_time": "2021-07-30T16:14:41.520709",
     "status": "completed"
    },
    "tags": []
   },
   "outputs": [
    {
     "data": {
      "text/plain": [
       "(7239, 7)"
      ]
     },
     "execution_count": 47,
     "metadata": {},
     "output_type": "execute_result"
    }
   ],
   "source": [
    "df9 = df8[df8.bath<df8.bhk+2]\n",
    "df9.shape"
   ]
  },
  {
   "cell_type": "code",
   "execution_count": 48,
   "id": "218a944c",
   "metadata": {
    "execution": {
     "iopub.execute_input": "2021-07-30T16:14:41.820818Z",
     "iopub.status.busy": "2021-07-30T16:14:41.815973Z",
     "iopub.status.idle": "2021-07-30T16:14:41.826077Z",
     "shell.execute_reply": "2021-07-30T16:14:41.825496Z",
     "shell.execute_reply.started": "2021-07-30T15:36:50.631965Z"
    },
    "papermill": {
     "duration": 0.111029,
     "end_time": "2021-07-30T16:14:41.826242",
     "exception": false,
     "start_time": "2021-07-30T16:14:41.715213",
     "status": "completed"
    },
    "tags": []
   },
   "outputs": [
    {
     "data": {
      "text/html": [
       "<div>\n",
       "<style scoped>\n",
       "    .dataframe tbody tr th:only-of-type {\n",
       "        vertical-align: middle;\n",
       "    }\n",
       "\n",
       "    .dataframe tbody tr th {\n",
       "        vertical-align: top;\n",
       "    }\n",
       "\n",
       "    .dataframe thead th {\n",
       "        text-align: right;\n",
       "    }\n",
       "</style>\n",
       "<table border=\"1\" class=\"dataframe\">\n",
       "  <thead>\n",
       "    <tr style=\"text-align: right;\">\n",
       "      <th></th>\n",
       "      <th>location</th>\n",
       "      <th>size</th>\n",
       "      <th>total_sqft</th>\n",
       "      <th>bath</th>\n",
       "      <th>price</th>\n",
       "      <th>bhk</th>\n",
       "      <th>price_per_sqft</th>\n",
       "    </tr>\n",
       "  </thead>\n",
       "  <tbody>\n",
       "    <tr>\n",
       "      <th>0</th>\n",
       "      <td>1st Block Jayanagar</td>\n",
       "      <td>4 BHK</td>\n",
       "      <td>2850.0</td>\n",
       "      <td>4.0</td>\n",
       "      <td>428.0</td>\n",
       "      <td>4</td>\n",
       "      <td>15017.543860</td>\n",
       "    </tr>\n",
       "    <tr>\n",
       "      <th>1</th>\n",
       "      <td>1st Block Jayanagar</td>\n",
       "      <td>3 BHK</td>\n",
       "      <td>1630.0</td>\n",
       "      <td>3.0</td>\n",
       "      <td>194.0</td>\n",
       "      <td>3</td>\n",
       "      <td>11901.840491</td>\n",
       "    </tr>\n",
       "  </tbody>\n",
       "</table>\n",
       "</div>"
      ],
      "text/plain": [
       "              location   size  total_sqft  bath  price  bhk  price_per_sqft\n",
       "0  1st Block Jayanagar  4 BHK      2850.0   4.0  428.0    4    15017.543860\n",
       "1  1st Block Jayanagar  3 BHK      1630.0   3.0  194.0    3    11901.840491"
      ]
     },
     "execution_count": 48,
     "metadata": {},
     "output_type": "execute_result"
    }
   ],
   "source": [
    "df9.head(2)"
   ]
  },
  {
   "cell_type": "code",
   "execution_count": 49,
   "id": "b6409b2a",
   "metadata": {
    "execution": {
     "iopub.execute_input": "2021-07-30T16:14:42.027727Z",
     "iopub.status.busy": "2021-07-30T16:14:42.026950Z",
     "iopub.status.idle": "2021-07-30T16:14:42.031592Z",
     "shell.execute_reply": "2021-07-30T16:14:42.030944Z",
     "shell.execute_reply.started": "2021-07-30T15:36:50.653923Z"
    },
    "papermill": {
     "duration": 0.110889,
     "end_time": "2021-07-30T16:14:42.031741",
     "exception": false,
     "start_time": "2021-07-30T16:14:41.920852",
     "status": "completed"
    },
    "scrolled": true,
    "tags": []
   },
   "outputs": [
    {
     "data": {
      "text/html": [
       "<div>\n",
       "<style scoped>\n",
       "    .dataframe tbody tr th:only-of-type {\n",
       "        vertical-align: middle;\n",
       "    }\n",
       "\n",
       "    .dataframe tbody tr th {\n",
       "        vertical-align: top;\n",
       "    }\n",
       "\n",
       "    .dataframe thead th {\n",
       "        text-align: right;\n",
       "    }\n",
       "</style>\n",
       "<table border=\"1\" class=\"dataframe\">\n",
       "  <thead>\n",
       "    <tr style=\"text-align: right;\">\n",
       "      <th></th>\n",
       "      <th>location</th>\n",
       "      <th>total_sqft</th>\n",
       "      <th>bath</th>\n",
       "      <th>price</th>\n",
       "      <th>bhk</th>\n",
       "    </tr>\n",
       "  </thead>\n",
       "  <tbody>\n",
       "    <tr>\n",
       "      <th>0</th>\n",
       "      <td>1st Block Jayanagar</td>\n",
       "      <td>2850.0</td>\n",
       "      <td>4.0</td>\n",
       "      <td>428.0</td>\n",
       "      <td>4</td>\n",
       "    </tr>\n",
       "    <tr>\n",
       "      <th>1</th>\n",
       "      <td>1st Block Jayanagar</td>\n",
       "      <td>1630.0</td>\n",
       "      <td>3.0</td>\n",
       "      <td>194.0</td>\n",
       "      <td>3</td>\n",
       "    </tr>\n",
       "    <tr>\n",
       "      <th>2</th>\n",
       "      <td>1st Block Jayanagar</td>\n",
       "      <td>1875.0</td>\n",
       "      <td>2.0</td>\n",
       "      <td>235.0</td>\n",
       "      <td>3</td>\n",
       "    </tr>\n",
       "  </tbody>\n",
       "</table>\n",
       "</div>"
      ],
      "text/plain": [
       "              location  total_sqft  bath  price  bhk\n",
       "0  1st Block Jayanagar      2850.0   4.0  428.0    4\n",
       "1  1st Block Jayanagar      1630.0   3.0  194.0    3\n",
       "2  1st Block Jayanagar      1875.0   2.0  235.0    3"
      ]
     },
     "execution_count": 49,
     "metadata": {},
     "output_type": "execute_result"
    }
   ],
   "source": [
    "df10 = df9.drop(['size','price_per_sqft'],axis='columns')\n",
    "df10.head(3)"
   ]
  },
  {
   "cell_type": "markdown",
   "id": "50cc58f1",
   "metadata": {
    "papermill": {
     "duration": 0.091509,
     "end_time": "2021-07-30T16:14:42.216770",
     "exception": false,
     "start_time": "2021-07-30T16:14:42.125261",
     "status": "completed"
    },
    "tags": []
   },
   "source": [
    "### USE ONE HOT ENCODING FOR LOCATION"
   ]
  },
  {
   "cell_type": "code",
   "execution_count": 50,
   "id": "36065128",
   "metadata": {
    "execution": {
     "iopub.execute_input": "2021-07-30T16:14:42.411784Z",
     "iopub.status.busy": "2021-07-30T16:14:42.411116Z",
     "iopub.status.idle": "2021-07-30T16:14:42.431178Z",
     "shell.execute_reply": "2021-07-30T16:14:42.430649Z",
     "shell.execute_reply.started": "2021-07-30T15:36:50.674628Z"
    },
    "papermill": {
     "duration": 0.120823,
     "end_time": "2021-07-30T16:14:42.431316",
     "exception": false,
     "start_time": "2021-07-30T16:14:42.310493",
     "status": "completed"
    },
    "tags": []
   },
   "outputs": [
    {
     "data": {
      "text/html": [
       "<div>\n",
       "<style scoped>\n",
       "    .dataframe tbody tr th:only-of-type {\n",
       "        vertical-align: middle;\n",
       "    }\n",
       "\n",
       "    .dataframe tbody tr th {\n",
       "        vertical-align: top;\n",
       "    }\n",
       "\n",
       "    .dataframe thead th {\n",
       "        text-align: right;\n",
       "    }\n",
       "</style>\n",
       "<table border=\"1\" class=\"dataframe\">\n",
       "  <thead>\n",
       "    <tr style=\"text-align: right;\">\n",
       "      <th></th>\n",
       "      <th>1st Block Jayanagar</th>\n",
       "      <th>1st Phase JP Nagar</th>\n",
       "      <th>2nd Phase Judicial Layout</th>\n",
       "      <th>2nd Stage Nagarbhavi</th>\n",
       "      <th>5th Block Hbr Layout</th>\n",
       "      <th>5th Phase JP Nagar</th>\n",
       "      <th>6th Phase JP Nagar</th>\n",
       "      <th>7th Phase JP Nagar</th>\n",
       "      <th>8th Phase JP Nagar</th>\n",
       "      <th>9th Phase JP Nagar</th>\n",
       "      <th>...</th>\n",
       "      <th>Vishveshwarya Layout</th>\n",
       "      <th>Vishwapriya Layout</th>\n",
       "      <th>Vittasandra</th>\n",
       "      <th>Whitefield</th>\n",
       "      <th>Yelachenahalli</th>\n",
       "      <th>Yelahanka</th>\n",
       "      <th>Yelahanka New Town</th>\n",
       "      <th>Yelenahalli</th>\n",
       "      <th>Yeshwanthpur</th>\n",
       "      <th>other</th>\n",
       "    </tr>\n",
       "  </thead>\n",
       "  <tbody>\n",
       "    <tr>\n",
       "      <th>0</th>\n",
       "      <td>1</td>\n",
       "      <td>0</td>\n",
       "      <td>0</td>\n",
       "      <td>0</td>\n",
       "      <td>0</td>\n",
       "      <td>0</td>\n",
       "      <td>0</td>\n",
       "      <td>0</td>\n",
       "      <td>0</td>\n",
       "      <td>0</td>\n",
       "      <td>...</td>\n",
       "      <td>0</td>\n",
       "      <td>0</td>\n",
       "      <td>0</td>\n",
       "      <td>0</td>\n",
       "      <td>0</td>\n",
       "      <td>0</td>\n",
       "      <td>0</td>\n",
       "      <td>0</td>\n",
       "      <td>0</td>\n",
       "      <td>0</td>\n",
       "    </tr>\n",
       "    <tr>\n",
       "      <th>1</th>\n",
       "      <td>1</td>\n",
       "      <td>0</td>\n",
       "      <td>0</td>\n",
       "      <td>0</td>\n",
       "      <td>0</td>\n",
       "      <td>0</td>\n",
       "      <td>0</td>\n",
       "      <td>0</td>\n",
       "      <td>0</td>\n",
       "      <td>0</td>\n",
       "      <td>...</td>\n",
       "      <td>0</td>\n",
       "      <td>0</td>\n",
       "      <td>0</td>\n",
       "      <td>0</td>\n",
       "      <td>0</td>\n",
       "      <td>0</td>\n",
       "      <td>0</td>\n",
       "      <td>0</td>\n",
       "      <td>0</td>\n",
       "      <td>0</td>\n",
       "    </tr>\n",
       "    <tr>\n",
       "      <th>2</th>\n",
       "      <td>1</td>\n",
       "      <td>0</td>\n",
       "      <td>0</td>\n",
       "      <td>0</td>\n",
       "      <td>0</td>\n",
       "      <td>0</td>\n",
       "      <td>0</td>\n",
       "      <td>0</td>\n",
       "      <td>0</td>\n",
       "      <td>0</td>\n",
       "      <td>...</td>\n",
       "      <td>0</td>\n",
       "      <td>0</td>\n",
       "      <td>0</td>\n",
       "      <td>0</td>\n",
       "      <td>0</td>\n",
       "      <td>0</td>\n",
       "      <td>0</td>\n",
       "      <td>0</td>\n",
       "      <td>0</td>\n",
       "      <td>0</td>\n",
       "    </tr>\n",
       "  </tbody>\n",
       "</table>\n",
       "<p>3 rows × 241 columns</p>\n",
       "</div>"
      ],
      "text/plain": [
       "   1st Block Jayanagar  1st Phase JP Nagar  2nd Phase Judicial Layout  \\\n",
       "0                    1                   0                          0   \n",
       "1                    1                   0                          0   \n",
       "2                    1                   0                          0   \n",
       "\n",
       "   2nd Stage Nagarbhavi  5th Block Hbr Layout  5th Phase JP Nagar  \\\n",
       "0                     0                     0                   0   \n",
       "1                     0                     0                   0   \n",
       "2                     0                     0                   0   \n",
       "\n",
       "   6th Phase JP Nagar  7th Phase JP Nagar  8th Phase JP Nagar  \\\n",
       "0                   0                   0                   0   \n",
       "1                   0                   0                   0   \n",
       "2                   0                   0                   0   \n",
       "\n",
       "   9th Phase JP Nagar  ...  Vishveshwarya Layout  Vishwapriya Layout  \\\n",
       "0                   0  ...                     0                   0   \n",
       "1                   0  ...                     0                   0   \n",
       "2                   0  ...                     0                   0   \n",
       "\n",
       "   Vittasandra  Whitefield  Yelachenahalli  Yelahanka  Yelahanka New Town  \\\n",
       "0            0           0               0          0                   0   \n",
       "1            0           0               0          0                   0   \n",
       "2            0           0               0          0                   0   \n",
       "\n",
       "   Yelenahalli  Yeshwanthpur  other  \n",
       "0            0             0      0  \n",
       "1            0             0      0  \n",
       "2            0             0      0  \n",
       "\n",
       "[3 rows x 241 columns]"
      ]
     },
     "execution_count": 50,
     "metadata": {},
     "output_type": "execute_result"
    }
   ],
   "source": [
    "dummies = pd.get_dummies(df10.location)\n",
    "dummies.head(3)"
   ]
  },
  {
   "cell_type": "code",
   "execution_count": 51,
   "id": "f9685adb",
   "metadata": {
    "execution": {
     "iopub.execute_input": "2021-07-30T16:14:42.623747Z",
     "iopub.status.busy": "2021-07-30T16:14:42.622818Z",
     "iopub.status.idle": "2021-07-30T16:14:42.658526Z",
     "shell.execute_reply": "2021-07-30T16:14:42.657987Z",
     "shell.execute_reply.started": "2021-07-30T15:36:50.703833Z"
    },
    "papermill": {
     "duration": 0.134954,
     "end_time": "2021-07-30T16:14:42.658681",
     "exception": false,
     "start_time": "2021-07-30T16:14:42.523727",
     "status": "completed"
    },
    "tags": []
   },
   "outputs": [
    {
     "data": {
      "text/html": [
       "<div>\n",
       "<style scoped>\n",
       "    .dataframe tbody tr th:only-of-type {\n",
       "        vertical-align: middle;\n",
       "    }\n",
       "\n",
       "    .dataframe tbody tr th {\n",
       "        vertical-align: top;\n",
       "    }\n",
       "\n",
       "    .dataframe thead th {\n",
       "        text-align: right;\n",
       "    }\n",
       "</style>\n",
       "<table border=\"1\" class=\"dataframe\">\n",
       "  <thead>\n",
       "    <tr style=\"text-align: right;\">\n",
       "      <th></th>\n",
       "      <th>location</th>\n",
       "      <th>total_sqft</th>\n",
       "      <th>bath</th>\n",
       "      <th>price</th>\n",
       "      <th>bhk</th>\n",
       "      <th>1st Block Jayanagar</th>\n",
       "      <th>1st Phase JP Nagar</th>\n",
       "      <th>2nd Phase Judicial Layout</th>\n",
       "      <th>2nd Stage Nagarbhavi</th>\n",
       "      <th>5th Block Hbr Layout</th>\n",
       "      <th>...</th>\n",
       "      <th>Vijayanagar</th>\n",
       "      <th>Vishveshwarya Layout</th>\n",
       "      <th>Vishwapriya Layout</th>\n",
       "      <th>Vittasandra</th>\n",
       "      <th>Whitefield</th>\n",
       "      <th>Yelachenahalli</th>\n",
       "      <th>Yelahanka</th>\n",
       "      <th>Yelahanka New Town</th>\n",
       "      <th>Yelenahalli</th>\n",
       "      <th>Yeshwanthpur</th>\n",
       "    </tr>\n",
       "  </thead>\n",
       "  <tbody>\n",
       "    <tr>\n",
       "      <th>0</th>\n",
       "      <td>1st Block Jayanagar</td>\n",
       "      <td>2850.0</td>\n",
       "      <td>4.0</td>\n",
       "      <td>428.0</td>\n",
       "      <td>4</td>\n",
       "      <td>1</td>\n",
       "      <td>0</td>\n",
       "      <td>0</td>\n",
       "      <td>0</td>\n",
       "      <td>0</td>\n",
       "      <td>...</td>\n",
       "      <td>0</td>\n",
       "      <td>0</td>\n",
       "      <td>0</td>\n",
       "      <td>0</td>\n",
       "      <td>0</td>\n",
       "      <td>0</td>\n",
       "      <td>0</td>\n",
       "      <td>0</td>\n",
       "      <td>0</td>\n",
       "      <td>0</td>\n",
       "    </tr>\n",
       "    <tr>\n",
       "      <th>1</th>\n",
       "      <td>1st Block Jayanagar</td>\n",
       "      <td>1630.0</td>\n",
       "      <td>3.0</td>\n",
       "      <td>194.0</td>\n",
       "      <td>3</td>\n",
       "      <td>1</td>\n",
       "      <td>0</td>\n",
       "      <td>0</td>\n",
       "      <td>0</td>\n",
       "      <td>0</td>\n",
       "      <td>...</td>\n",
       "      <td>0</td>\n",
       "      <td>0</td>\n",
       "      <td>0</td>\n",
       "      <td>0</td>\n",
       "      <td>0</td>\n",
       "      <td>0</td>\n",
       "      <td>0</td>\n",
       "      <td>0</td>\n",
       "      <td>0</td>\n",
       "      <td>0</td>\n",
       "    </tr>\n",
       "    <tr>\n",
       "      <th>2</th>\n",
       "      <td>1st Block Jayanagar</td>\n",
       "      <td>1875.0</td>\n",
       "      <td>2.0</td>\n",
       "      <td>235.0</td>\n",
       "      <td>3</td>\n",
       "      <td>1</td>\n",
       "      <td>0</td>\n",
       "      <td>0</td>\n",
       "      <td>0</td>\n",
       "      <td>0</td>\n",
       "      <td>...</td>\n",
       "      <td>0</td>\n",
       "      <td>0</td>\n",
       "      <td>0</td>\n",
       "      <td>0</td>\n",
       "      <td>0</td>\n",
       "      <td>0</td>\n",
       "      <td>0</td>\n",
       "      <td>0</td>\n",
       "      <td>0</td>\n",
       "      <td>0</td>\n",
       "    </tr>\n",
       "    <tr>\n",
       "      <th>3</th>\n",
       "      <td>1st Block Jayanagar</td>\n",
       "      <td>1200.0</td>\n",
       "      <td>2.0</td>\n",
       "      <td>130.0</td>\n",
       "      <td>3</td>\n",
       "      <td>1</td>\n",
       "      <td>0</td>\n",
       "      <td>0</td>\n",
       "      <td>0</td>\n",
       "      <td>0</td>\n",
       "      <td>...</td>\n",
       "      <td>0</td>\n",
       "      <td>0</td>\n",
       "      <td>0</td>\n",
       "      <td>0</td>\n",
       "      <td>0</td>\n",
       "      <td>0</td>\n",
       "      <td>0</td>\n",
       "      <td>0</td>\n",
       "      <td>0</td>\n",
       "      <td>0</td>\n",
       "    </tr>\n",
       "    <tr>\n",
       "      <th>4</th>\n",
       "      <td>1st Block Jayanagar</td>\n",
       "      <td>1235.0</td>\n",
       "      <td>2.0</td>\n",
       "      <td>148.0</td>\n",
       "      <td>2</td>\n",
       "      <td>1</td>\n",
       "      <td>0</td>\n",
       "      <td>0</td>\n",
       "      <td>0</td>\n",
       "      <td>0</td>\n",
       "      <td>...</td>\n",
       "      <td>0</td>\n",
       "      <td>0</td>\n",
       "      <td>0</td>\n",
       "      <td>0</td>\n",
       "      <td>0</td>\n",
       "      <td>0</td>\n",
       "      <td>0</td>\n",
       "      <td>0</td>\n",
       "      <td>0</td>\n",
       "      <td>0</td>\n",
       "    </tr>\n",
       "  </tbody>\n",
       "</table>\n",
       "<p>5 rows × 245 columns</p>\n",
       "</div>"
      ],
      "text/plain": [
       "              location  total_sqft  bath  price  bhk  1st Block Jayanagar  \\\n",
       "0  1st Block Jayanagar      2850.0   4.0  428.0    4                    1   \n",
       "1  1st Block Jayanagar      1630.0   3.0  194.0    3                    1   \n",
       "2  1st Block Jayanagar      1875.0   2.0  235.0    3                    1   \n",
       "3  1st Block Jayanagar      1200.0   2.0  130.0    3                    1   \n",
       "4  1st Block Jayanagar      1235.0   2.0  148.0    2                    1   \n",
       "\n",
       "   1st Phase JP Nagar  2nd Phase Judicial Layout  2nd Stage Nagarbhavi  \\\n",
       "0                   0                          0                     0   \n",
       "1                   0                          0                     0   \n",
       "2                   0                          0                     0   \n",
       "3                   0                          0                     0   \n",
       "4                   0                          0                     0   \n",
       "\n",
       "   5th Block Hbr Layout  ...  Vijayanagar  Vishveshwarya Layout  \\\n",
       "0                     0  ...            0                     0   \n",
       "1                     0  ...            0                     0   \n",
       "2                     0  ...            0                     0   \n",
       "3                     0  ...            0                     0   \n",
       "4                     0  ...            0                     0   \n",
       "\n",
       "   Vishwapriya Layout  Vittasandra  Whitefield  Yelachenahalli  Yelahanka  \\\n",
       "0                   0            0           0               0          0   \n",
       "1                   0            0           0               0          0   \n",
       "2                   0            0           0               0          0   \n",
       "3                   0            0           0               0          0   \n",
       "4                   0            0           0               0          0   \n",
       "\n",
       "   Yelahanka New Town  Yelenahalli  Yeshwanthpur  \n",
       "0                   0            0             0  \n",
       "1                   0            0             0  \n",
       "2                   0            0             0  \n",
       "3                   0            0             0  \n",
       "4                   0            0             0  \n",
       "\n",
       "[5 rows x 245 columns]"
      ]
     },
     "execution_count": 51,
     "metadata": {},
     "output_type": "execute_result"
    }
   ],
   "source": [
    "df11 = pd.concat([df10,dummies.drop('other',axis='columns')],axis='columns')\n",
    "df11.head()"
   ]
  },
  {
   "cell_type": "code",
   "execution_count": 52,
   "id": "60188e0b",
   "metadata": {
    "execution": {
     "iopub.execute_input": "2021-07-30T16:14:42.853653Z",
     "iopub.status.busy": "2021-07-30T16:14:42.852955Z",
     "iopub.status.idle": "2021-07-30T16:14:42.874015Z",
     "shell.execute_reply": "2021-07-30T16:14:42.873333Z",
     "shell.execute_reply.started": "2021-07-30T15:36:50.746836Z"
    },
    "papermill": {
     "duration": 0.121654,
     "end_time": "2021-07-30T16:14:42.874157",
     "exception": false,
     "start_time": "2021-07-30T16:14:42.752503",
     "status": "completed"
    },
    "tags": []
   },
   "outputs": [
    {
     "data": {
      "text/html": [
       "<div>\n",
       "<style scoped>\n",
       "    .dataframe tbody tr th:only-of-type {\n",
       "        vertical-align: middle;\n",
       "    }\n",
       "\n",
       "    .dataframe tbody tr th {\n",
       "        vertical-align: top;\n",
       "    }\n",
       "\n",
       "    .dataframe thead th {\n",
       "        text-align: right;\n",
       "    }\n",
       "</style>\n",
       "<table border=\"1\" class=\"dataframe\">\n",
       "  <thead>\n",
       "    <tr style=\"text-align: right;\">\n",
       "      <th></th>\n",
       "      <th>total_sqft</th>\n",
       "      <th>bath</th>\n",
       "      <th>price</th>\n",
       "      <th>bhk</th>\n",
       "      <th>1st Block Jayanagar</th>\n",
       "      <th>1st Phase JP Nagar</th>\n",
       "      <th>2nd Phase Judicial Layout</th>\n",
       "      <th>2nd Stage Nagarbhavi</th>\n",
       "      <th>5th Block Hbr Layout</th>\n",
       "      <th>5th Phase JP Nagar</th>\n",
       "      <th>...</th>\n",
       "      <th>Vijayanagar</th>\n",
       "      <th>Vishveshwarya Layout</th>\n",
       "      <th>Vishwapriya Layout</th>\n",
       "      <th>Vittasandra</th>\n",
       "      <th>Whitefield</th>\n",
       "      <th>Yelachenahalli</th>\n",
       "      <th>Yelahanka</th>\n",
       "      <th>Yelahanka New Town</th>\n",
       "      <th>Yelenahalli</th>\n",
       "      <th>Yeshwanthpur</th>\n",
       "    </tr>\n",
       "  </thead>\n",
       "  <tbody>\n",
       "    <tr>\n",
       "      <th>0</th>\n",
       "      <td>2850.0</td>\n",
       "      <td>4.0</td>\n",
       "      <td>428.0</td>\n",
       "      <td>4</td>\n",
       "      <td>1</td>\n",
       "      <td>0</td>\n",
       "      <td>0</td>\n",
       "      <td>0</td>\n",
       "      <td>0</td>\n",
       "      <td>0</td>\n",
       "      <td>...</td>\n",
       "      <td>0</td>\n",
       "      <td>0</td>\n",
       "      <td>0</td>\n",
       "      <td>0</td>\n",
       "      <td>0</td>\n",
       "      <td>0</td>\n",
       "      <td>0</td>\n",
       "      <td>0</td>\n",
       "      <td>0</td>\n",
       "      <td>0</td>\n",
       "    </tr>\n",
       "    <tr>\n",
       "      <th>1</th>\n",
       "      <td>1630.0</td>\n",
       "      <td>3.0</td>\n",
       "      <td>194.0</td>\n",
       "      <td>3</td>\n",
       "      <td>1</td>\n",
       "      <td>0</td>\n",
       "      <td>0</td>\n",
       "      <td>0</td>\n",
       "      <td>0</td>\n",
       "      <td>0</td>\n",
       "      <td>...</td>\n",
       "      <td>0</td>\n",
       "      <td>0</td>\n",
       "      <td>0</td>\n",
       "      <td>0</td>\n",
       "      <td>0</td>\n",
       "      <td>0</td>\n",
       "      <td>0</td>\n",
       "      <td>0</td>\n",
       "      <td>0</td>\n",
       "      <td>0</td>\n",
       "    </tr>\n",
       "  </tbody>\n",
       "</table>\n",
       "<p>2 rows × 244 columns</p>\n",
       "</div>"
      ],
      "text/plain": [
       "   total_sqft  bath  price  bhk  1st Block Jayanagar  1st Phase JP Nagar  \\\n",
       "0      2850.0   4.0  428.0    4                    1                   0   \n",
       "1      1630.0   3.0  194.0    3                    1                   0   \n",
       "\n",
       "   2nd Phase Judicial Layout  2nd Stage Nagarbhavi  5th Block Hbr Layout  \\\n",
       "0                          0                     0                     0   \n",
       "1                          0                     0                     0   \n",
       "\n",
       "   5th Phase JP Nagar  ...  Vijayanagar  Vishveshwarya Layout  \\\n",
       "0                   0  ...            0                     0   \n",
       "1                   0  ...            0                     0   \n",
       "\n",
       "   Vishwapriya Layout  Vittasandra  Whitefield  Yelachenahalli  Yelahanka  \\\n",
       "0                   0            0           0               0          0   \n",
       "1                   0            0           0               0          0   \n",
       "\n",
       "   Yelahanka New Town  Yelenahalli  Yeshwanthpur  \n",
       "0                   0            0             0  \n",
       "1                   0            0             0  \n",
       "\n",
       "[2 rows x 244 columns]"
      ]
     },
     "execution_count": 52,
     "metadata": {},
     "output_type": "execute_result"
    }
   ],
   "source": [
    "df12 = df11.drop('location',axis='columns')\n",
    "df12.head(2)"
   ]
  },
  {
   "cell_type": "markdown",
   "id": "e6a1f67a",
   "metadata": {
    "papermill": {
     "duration": 0.094048,
     "end_time": "2021-07-30T16:14:43.063127",
     "exception": false,
     "start_time": "2021-07-30T16:14:42.969079",
     "status": "completed"
    },
    "tags": []
   },
   "source": [
    "### BUILDING A MODEL"
   ]
  },
  {
   "cell_type": "code",
   "execution_count": 53,
   "id": "3265c421",
   "metadata": {
    "execution": {
     "iopub.execute_input": "2021-07-30T16:14:43.258519Z",
     "iopub.status.busy": "2021-07-30T16:14:43.257600Z",
     "iopub.status.idle": "2021-07-30T16:14:43.262126Z",
     "shell.execute_reply": "2021-07-30T16:14:43.261497Z",
     "shell.execute_reply.started": "2021-07-30T15:36:50.772397Z"
    },
    "papermill": {
     "duration": 0.104332,
     "end_time": "2021-07-30T16:14:43.262277",
     "exception": false,
     "start_time": "2021-07-30T16:14:43.157945",
     "status": "completed"
    },
    "tags": []
   },
   "outputs": [
    {
     "data": {
      "text/plain": [
       "(7239, 244)"
      ]
     },
     "execution_count": 53,
     "metadata": {},
     "output_type": "execute_result"
    }
   ],
   "source": [
    "df12.shape"
   ]
  },
  {
   "cell_type": "code",
   "execution_count": 54,
   "id": "3fedfc0f",
   "metadata": {
    "execution": {
     "iopub.execute_input": "2021-07-30T16:14:43.459110Z",
     "iopub.status.busy": "2021-07-30T16:14:43.458005Z",
     "iopub.status.idle": "2021-07-30T16:14:43.480595Z",
     "shell.execute_reply": "2021-07-30T16:14:43.479880Z",
     "shell.execute_reply.started": "2021-07-30T15:36:50.780892Z"
    },
    "papermill": {
     "duration": 0.123911,
     "end_time": "2021-07-30T16:14:43.480752",
     "exception": false,
     "start_time": "2021-07-30T16:14:43.356841",
     "status": "completed"
    },
    "scrolled": true,
    "tags": []
   },
   "outputs": [
    {
     "data": {
      "text/html": [
       "<div>\n",
       "<style scoped>\n",
       "    .dataframe tbody tr th:only-of-type {\n",
       "        vertical-align: middle;\n",
       "    }\n",
       "\n",
       "    .dataframe tbody tr th {\n",
       "        vertical-align: top;\n",
       "    }\n",
       "\n",
       "    .dataframe thead th {\n",
       "        text-align: right;\n",
       "    }\n",
       "</style>\n",
       "<table border=\"1\" class=\"dataframe\">\n",
       "  <thead>\n",
       "    <tr style=\"text-align: right;\">\n",
       "      <th></th>\n",
       "      <th>total_sqft</th>\n",
       "      <th>bath</th>\n",
       "      <th>bhk</th>\n",
       "      <th>1st Block Jayanagar</th>\n",
       "      <th>1st Phase JP Nagar</th>\n",
       "      <th>2nd Phase Judicial Layout</th>\n",
       "      <th>2nd Stage Nagarbhavi</th>\n",
       "      <th>5th Block Hbr Layout</th>\n",
       "      <th>5th Phase JP Nagar</th>\n",
       "      <th>6th Phase JP Nagar</th>\n",
       "      <th>...</th>\n",
       "      <th>Vijayanagar</th>\n",
       "      <th>Vishveshwarya Layout</th>\n",
       "      <th>Vishwapriya Layout</th>\n",
       "      <th>Vittasandra</th>\n",
       "      <th>Whitefield</th>\n",
       "      <th>Yelachenahalli</th>\n",
       "      <th>Yelahanka</th>\n",
       "      <th>Yelahanka New Town</th>\n",
       "      <th>Yelenahalli</th>\n",
       "      <th>Yeshwanthpur</th>\n",
       "    </tr>\n",
       "  </thead>\n",
       "  <tbody>\n",
       "    <tr>\n",
       "      <th>0</th>\n",
       "      <td>2850.0</td>\n",
       "      <td>4.0</td>\n",
       "      <td>4</td>\n",
       "      <td>1</td>\n",
       "      <td>0</td>\n",
       "      <td>0</td>\n",
       "      <td>0</td>\n",
       "      <td>0</td>\n",
       "      <td>0</td>\n",
       "      <td>0</td>\n",
       "      <td>...</td>\n",
       "      <td>0</td>\n",
       "      <td>0</td>\n",
       "      <td>0</td>\n",
       "      <td>0</td>\n",
       "      <td>0</td>\n",
       "      <td>0</td>\n",
       "      <td>0</td>\n",
       "      <td>0</td>\n",
       "      <td>0</td>\n",
       "      <td>0</td>\n",
       "    </tr>\n",
       "    <tr>\n",
       "      <th>1</th>\n",
       "      <td>1630.0</td>\n",
       "      <td>3.0</td>\n",
       "      <td>3</td>\n",
       "      <td>1</td>\n",
       "      <td>0</td>\n",
       "      <td>0</td>\n",
       "      <td>0</td>\n",
       "      <td>0</td>\n",
       "      <td>0</td>\n",
       "      <td>0</td>\n",
       "      <td>...</td>\n",
       "      <td>0</td>\n",
       "      <td>0</td>\n",
       "      <td>0</td>\n",
       "      <td>0</td>\n",
       "      <td>0</td>\n",
       "      <td>0</td>\n",
       "      <td>0</td>\n",
       "      <td>0</td>\n",
       "      <td>0</td>\n",
       "      <td>0</td>\n",
       "    </tr>\n",
       "    <tr>\n",
       "      <th>2</th>\n",
       "      <td>1875.0</td>\n",
       "      <td>2.0</td>\n",
       "      <td>3</td>\n",
       "      <td>1</td>\n",
       "      <td>0</td>\n",
       "      <td>0</td>\n",
       "      <td>0</td>\n",
       "      <td>0</td>\n",
       "      <td>0</td>\n",
       "      <td>0</td>\n",
       "      <td>...</td>\n",
       "      <td>0</td>\n",
       "      <td>0</td>\n",
       "      <td>0</td>\n",
       "      <td>0</td>\n",
       "      <td>0</td>\n",
       "      <td>0</td>\n",
       "      <td>0</td>\n",
       "      <td>0</td>\n",
       "      <td>0</td>\n",
       "      <td>0</td>\n",
       "    </tr>\n",
       "  </tbody>\n",
       "</table>\n",
       "<p>3 rows × 243 columns</p>\n",
       "</div>"
      ],
      "text/plain": [
       "   total_sqft  bath  bhk  1st Block Jayanagar  1st Phase JP Nagar  \\\n",
       "0      2850.0   4.0    4                    1                   0   \n",
       "1      1630.0   3.0    3                    1                   0   \n",
       "2      1875.0   2.0    3                    1                   0   \n",
       "\n",
       "   2nd Phase Judicial Layout  2nd Stage Nagarbhavi  5th Block Hbr Layout  \\\n",
       "0                          0                     0                     0   \n",
       "1                          0                     0                     0   \n",
       "2                          0                     0                     0   \n",
       "\n",
       "   5th Phase JP Nagar  6th Phase JP Nagar  ...  Vijayanagar  \\\n",
       "0                   0                   0  ...            0   \n",
       "1                   0                   0  ...            0   \n",
       "2                   0                   0  ...            0   \n",
       "\n",
       "   Vishveshwarya Layout  Vishwapriya Layout  Vittasandra  Whitefield  \\\n",
       "0                     0                   0            0           0   \n",
       "1                     0                   0            0           0   \n",
       "2                     0                   0            0           0   \n",
       "\n",
       "   Yelachenahalli  Yelahanka  Yelahanka New Town  Yelenahalli  Yeshwanthpur  \n",
       "0               0          0                   0            0             0  \n",
       "1               0          0                   0            0             0  \n",
       "2               0          0                   0            0             0  \n",
       "\n",
       "[3 rows x 243 columns]"
      ]
     },
     "execution_count": 54,
     "metadata": {},
     "output_type": "execute_result"
    }
   ],
   "source": [
    "X = df12.drop(['price'],axis='columns')\n",
    "X.head(3)"
   ]
  },
  {
   "cell_type": "code",
   "execution_count": 55,
   "id": "3478efaf",
   "metadata": {
    "execution": {
     "iopub.execute_input": "2021-07-30T16:14:43.677532Z",
     "iopub.status.busy": "2021-07-30T16:14:43.676312Z",
     "iopub.status.idle": "2021-07-30T16:14:43.681685Z",
     "shell.execute_reply": "2021-07-30T16:14:43.681110Z",
     "shell.execute_reply.started": "2021-07-30T15:36:50.810046Z"
    },
    "papermill": {
     "duration": 0.105873,
     "end_time": "2021-07-30T16:14:43.681872",
     "exception": false,
     "start_time": "2021-07-30T16:14:43.575999",
     "status": "completed"
    },
    "tags": []
   },
   "outputs": [
    {
     "data": {
      "text/plain": [
       "(7239, 243)"
      ]
     },
     "execution_count": 55,
     "metadata": {},
     "output_type": "execute_result"
    }
   ],
   "source": [
    "X.shape"
   ]
  },
  {
   "cell_type": "code",
   "execution_count": 56,
   "id": "efc81282",
   "metadata": {
    "execution": {
     "iopub.execute_input": "2021-07-30T16:14:43.883495Z",
     "iopub.status.busy": "2021-07-30T16:14:43.882521Z",
     "iopub.status.idle": "2021-07-30T16:14:43.887019Z",
     "shell.execute_reply": "2021-07-30T16:14:43.886463Z",
     "shell.execute_reply.started": "2021-07-30T15:36:50.818382Z"
    },
    "papermill": {
     "duration": 0.109355,
     "end_time": "2021-07-30T16:14:43.887161",
     "exception": false,
     "start_time": "2021-07-30T16:14:43.777806",
     "status": "completed"
    },
    "scrolled": true,
    "tags": []
   },
   "outputs": [
    {
     "data": {
      "text/plain": [
       "0    428.0\n",
       "1    194.0\n",
       "2    235.0\n",
       "Name: price, dtype: float64"
      ]
     },
     "execution_count": 56,
     "metadata": {},
     "output_type": "execute_result"
    }
   ],
   "source": [
    "y = df12.price\n",
    "y.head(3)"
   ]
  },
  {
   "cell_type": "code",
   "execution_count": 57,
   "id": "d13dd161",
   "metadata": {
    "execution": {
     "iopub.execute_input": "2021-07-30T16:14:44.085052Z",
     "iopub.status.busy": "2021-07-30T16:14:44.084304Z",
     "iopub.status.idle": "2021-07-30T16:14:44.088532Z",
     "shell.execute_reply": "2021-07-30T16:14:44.087996Z",
     "shell.execute_reply.started": "2021-07-30T15:36:50.835127Z"
    },
    "papermill": {
     "duration": 0.104674,
     "end_time": "2021-07-30T16:14:44.088787",
     "exception": false,
     "start_time": "2021-07-30T16:14:43.984113",
     "status": "completed"
    },
    "tags": []
   },
   "outputs": [
    {
     "data": {
      "text/plain": [
       "7239"
      ]
     },
     "execution_count": 57,
     "metadata": {},
     "output_type": "execute_result"
    }
   ],
   "source": [
    "len(y)"
   ]
  },
  {
   "cell_type": "code",
   "execution_count": 58,
   "id": "1158c45b",
   "metadata": {
    "execution": {
     "iopub.execute_input": "2021-07-30T16:14:44.285368Z",
     "iopub.status.busy": "2021-07-30T16:14:44.284749Z",
     "iopub.status.idle": "2021-07-30T16:14:45.397329Z",
     "shell.execute_reply": "2021-07-30T16:14:45.396606Z",
     "shell.execute_reply.started": "2021-07-30T15:36:50.848296Z"
    },
    "papermill": {
     "duration": 1.211597,
     "end_time": "2021-07-30T16:14:45.397485",
     "exception": false,
     "start_time": "2021-07-30T16:14:44.185888",
     "status": "completed"
    },
    "tags": []
   },
   "outputs": [],
   "source": [
    "from sklearn.model_selection import train_test_split\n",
    "X_train, X_test, y_train, y_test = train_test_split(X,y,test_size=0.2,random_state=10)"
   ]
  },
  {
   "cell_type": "code",
   "execution_count": 59,
   "id": "c26d4838",
   "metadata": {
    "execution": {
     "iopub.execute_input": "2021-07-30T16:14:45.594935Z",
     "iopub.status.busy": "2021-07-30T16:14:45.594231Z",
     "iopub.status.idle": "2021-07-30T16:14:46.114947Z",
     "shell.execute_reply": "2021-07-30T16:14:46.115896Z",
     "shell.execute_reply.started": "2021-07-30T15:36:52.217463Z"
    },
    "papermill": {
     "duration": 0.622414,
     "end_time": "2021-07-30T16:14:46.116177",
     "exception": false,
     "start_time": "2021-07-30T16:14:45.493763",
     "status": "completed"
    },
    "tags": []
   },
   "outputs": [
    {
     "data": {
      "text/plain": [
       "0.8629132245229449"
      ]
     },
     "execution_count": 59,
     "metadata": {},
     "output_type": "execute_result"
    }
   ],
   "source": [
    "from sklearn.linear_model import LinearRegression\n",
    "lr_clf = LinearRegression()\n",
    "lr_clf.fit(X_train,y_train)\n",
    "lr_clf.score(X_test,y_test)"
   ]
  },
  {
   "cell_type": "markdown",
   "id": "49f1b184",
   "metadata": {
    "papermill": {
     "duration": 0.112165,
     "end_time": "2021-07-30T16:14:46.370731",
     "exception": false,
     "start_time": "2021-07-30T16:14:46.258566",
     "status": "completed"
    },
    "tags": []
   },
   "source": [
    "### USE K FOLD CROSS VALIDATION TO MEASURE ACCURACY OF OUR LINEAR REGRESSION MODEL"
   ]
  },
  {
   "cell_type": "code",
   "execution_count": 60,
   "id": "4af4e05b",
   "metadata": {
    "execution": {
     "iopub.execute_input": "2021-07-30T16:14:46.585616Z",
     "iopub.status.busy": "2021-07-30T16:14:46.584884Z",
     "iopub.status.idle": "2021-07-30T16:14:47.271589Z",
     "shell.execute_reply": "2021-07-30T16:14:47.272854Z",
     "shell.execute_reply.started": "2021-07-30T15:36:52.619531Z"
    },
    "papermill": {
     "duration": 0.791726,
     "end_time": "2021-07-30T16:14:47.273127",
     "exception": false,
     "start_time": "2021-07-30T16:14:46.481401",
     "status": "completed"
    },
    "tags": []
   },
   "outputs": [
    {
     "data": {
      "text/plain": [
       "array([0.82702546, 0.86027005, 0.85322178, 0.8436466 , 0.85481502])"
      ]
     },
     "execution_count": 60,
     "metadata": {},
     "output_type": "execute_result"
    }
   ],
   "source": [
    "from sklearn.model_selection import ShuffleSplit\n",
    "from sklearn.model_selection import cross_val_score\n",
    "\n",
    "cv = ShuffleSplit(n_splits=5, test_size=0.2, random_state=0)\n",
    "\n",
    "cross_val_score(LinearRegression(), X, y, cv=cv)"
   ]
  },
  {
   "cell_type": "markdown",
   "id": "6be2495a",
   "metadata": {
    "papermill": {
     "duration": 0.09607,
     "end_time": "2021-07-30T16:14:47.513206",
     "exception": false,
     "start_time": "2021-07-30T16:14:47.417136",
     "status": "completed"
    },
    "tags": []
   },
   "source": [
    "**WE CAN SEE THAT IN 5 ITERATIONS WE GET A SCORE ABOVE 80% ALL THE TIME. THIS IS PRETTY GOOD BUT WE WANT TO TEST FEW OTHER ALGORITHMS FOR REGRESSION TO SEE IF WE CAN GET AN EVEN BETTER SCORE. WE WILL USE GRIDSEARCHCV FOR THIS PURPOSE**"
   ]
  },
  {
   "cell_type": "markdown",
   "id": "c69b70ea",
   "metadata": {
    "papermill": {
     "duration": 0.096094,
     "end_time": "2021-07-30T16:14:47.706907",
     "exception": false,
     "start_time": "2021-07-30T16:14:47.610813",
     "status": "completed"
    },
    "tags": []
   },
   "source": [
    "### FIND BEST MODEL USING GRIDSEARCHCV"
   ]
  },
  {
   "cell_type": "code",
   "execution_count": 61,
   "id": "9369e6e7",
   "metadata": {
    "execution": {
     "iopub.execute_input": "2021-07-30T16:14:47.915782Z",
     "iopub.status.busy": "2021-07-30T16:14:47.915026Z",
     "iopub.status.idle": "2021-07-30T16:14:54.803932Z",
     "shell.execute_reply": "2021-07-30T16:14:54.803364Z",
     "shell.execute_reply.started": "2021-07-30T15:36:53.425037Z"
    },
    "papermill": {
     "duration": 6.997262,
     "end_time": "2021-07-30T16:14:54.804089",
     "exception": false,
     "start_time": "2021-07-30T16:14:47.806827",
     "status": "completed"
    },
    "tags": []
   },
   "outputs": [
    {
     "data": {
      "text/html": [
       "<div>\n",
       "<style scoped>\n",
       "    .dataframe tbody tr th:only-of-type {\n",
       "        vertical-align: middle;\n",
       "    }\n",
       "\n",
       "    .dataframe tbody tr th {\n",
       "        vertical-align: top;\n",
       "    }\n",
       "\n",
       "    .dataframe thead th {\n",
       "        text-align: right;\n",
       "    }\n",
       "</style>\n",
       "<table border=\"1\" class=\"dataframe\">\n",
       "  <thead>\n",
       "    <tr style=\"text-align: right;\">\n",
       "      <th></th>\n",
       "      <th>model</th>\n",
       "      <th>best_score</th>\n",
       "      <th>best_params</th>\n",
       "    </tr>\n",
       "  </thead>\n",
       "  <tbody>\n",
       "    <tr>\n",
       "      <th>0</th>\n",
       "      <td>linear_regression</td>\n",
       "      <td>0.847796</td>\n",
       "      <td>{'normalize': False}</td>\n",
       "    </tr>\n",
       "    <tr>\n",
       "      <th>1</th>\n",
       "      <td>lasso</td>\n",
       "      <td>0.726743</td>\n",
       "      <td>{'alpha': 2, 'selection': 'random'}</td>\n",
       "    </tr>\n",
       "    <tr>\n",
       "      <th>2</th>\n",
       "      <td>decision_tree</td>\n",
       "      <td>0.674424</td>\n",
       "      <td>{'criterion': 'friedman_mse', 'splitter': 'ran...</td>\n",
       "    </tr>\n",
       "  </tbody>\n",
       "</table>\n",
       "</div>"
      ],
      "text/plain": [
       "               model  best_score  \\\n",
       "0  linear_regression    0.847796   \n",
       "1              lasso    0.726743   \n",
       "2      decision_tree    0.674424   \n",
       "\n",
       "                                         best_params  \n",
       "0                               {'normalize': False}  \n",
       "1                {'alpha': 2, 'selection': 'random'}  \n",
       "2  {'criterion': 'friedman_mse', 'splitter': 'ran...  "
      ]
     },
     "execution_count": 61,
     "metadata": {},
     "output_type": "execute_result"
    }
   ],
   "source": [
    "from sklearn.model_selection import GridSearchCV\n",
    "\n",
    "from sklearn.linear_model import Lasso\n",
    "from sklearn.tree import DecisionTreeRegressor\n",
    "\n",
    "def find_best_model_using_gridsearchcv(X,y):\n",
    "    algos = {\n",
    "        'linear_regression' : {\n",
    "            'model': LinearRegression(),\n",
    "            'params': {\n",
    "                'normalize': [True, False]\n",
    "            }\n",
    "        },\n",
    "        'lasso': {\n",
    "            'model': Lasso(),\n",
    "            'params': {\n",
    "                'alpha': [1,2],\n",
    "                'selection': ['random', 'cyclic']\n",
    "            }\n",
    "        },\n",
    "        'decision_tree': {\n",
    "            'model': DecisionTreeRegressor(),\n",
    "            'params': {\n",
    "                'criterion' : ['mse','friedman_mse'],\n",
    "                'splitter': ['best','random']\n",
    "            }\n",
    "        }\n",
    "    }\n",
    "    scores = []\n",
    "    cv = ShuffleSplit(n_splits=5, test_size=0.2, random_state=0)\n",
    "    for algo_name, config in algos.items():\n",
    "        gs =  GridSearchCV(config['model'], config['params'], cv=cv, return_train_score=False)\n",
    "        gs.fit(X,y)\n",
    "        scores.append({\n",
    "            'model': algo_name,\n",
    "            'best_score': gs.best_score_,\n",
    "            'best_params': gs.best_params_\n",
    "        })\n",
    "\n",
    "    return pd.DataFrame(scores,columns=['model','best_score','best_params'])\n",
    "\n",
    "find_best_model_using_gridsearchcv(X,y)"
   ]
  },
  {
   "cell_type": "markdown",
   "id": "ad1ab485",
   "metadata": {
    "papermill": {
     "duration": 0.099266,
     "end_time": "2021-07-30T16:14:55.003284",
     "exception": false,
     "start_time": "2021-07-30T16:14:54.904018",
     "status": "completed"
    },
    "tags": []
   },
   "source": [
    "**BASED ON THE ABOVE RESULTS WE CAN SAY THAT LINEAR REGRESSION GIVES THE BEST SCORE. HENCE WE WILL USE THAT.**"
   ]
  },
  {
   "cell_type": "markdown",
   "id": "f973b46d",
   "metadata": {
    "papermill": {
     "duration": 0.09724,
     "end_time": "2021-07-30T16:14:55.200130",
     "exception": false,
     "start_time": "2021-07-30T16:14:55.102890",
     "status": "completed"
    },
    "tags": []
   },
   "source": [
    "### TEST THE MODEL FOR FEW PROPERTIES"
   ]
  },
  {
   "cell_type": "code",
   "execution_count": 62,
   "id": "b87f0cd9",
   "metadata": {
    "execution": {
     "iopub.execute_input": "2021-07-30T16:14:55.401917Z",
     "iopub.status.busy": "2021-07-30T16:14:55.401214Z",
     "iopub.status.idle": "2021-07-30T16:14:55.404029Z",
     "shell.execute_reply": "2021-07-30T16:14:55.404528Z",
     "shell.execute_reply.started": "2021-07-30T15:37:00.926023Z"
    },
    "papermill": {
     "duration": 0.107678,
     "end_time": "2021-07-30T16:14:55.404746",
     "exception": false,
     "start_time": "2021-07-30T16:14:55.297068",
     "status": "completed"
    },
    "tags": []
   },
   "outputs": [],
   "source": [
    "def predict_price(location,sqft,bath,bhk):    \n",
    "    loc_index = np.where(X.columns==location)[0][0]\n",
    "\n",
    "    x = np.zeros(len(X.columns))\n",
    "    x[0] = sqft\n",
    "    x[1] = bath\n",
    "    x[2] = bhk\n",
    "    if loc_index >= 0:\n",
    "        x[loc_index] = 1\n",
    "\n",
    "    return lr_clf.predict([x])[0]"
   ]
  },
  {
   "cell_type": "code",
   "execution_count": 63,
   "id": "12a5c4c1",
   "metadata": {
    "execution": {
     "iopub.execute_input": "2021-07-30T16:14:55.602491Z",
     "iopub.status.busy": "2021-07-30T16:14:55.601852Z",
     "iopub.status.idle": "2021-07-30T16:14:55.607878Z",
     "shell.execute_reply": "2021-07-30T16:14:55.608366Z",
     "shell.execute_reply.started": "2021-07-30T15:37:00.935408Z"
    },
    "papermill": {
     "duration": 0.106277,
     "end_time": "2021-07-30T16:14:55.608533",
     "exception": false,
     "start_time": "2021-07-30T16:14:55.502256",
     "status": "completed"
    },
    "tags": []
   },
   "outputs": [
    {
     "data": {
      "text/plain": [
       "83.8657025831121"
      ]
     },
     "execution_count": 63,
     "metadata": {},
     "output_type": "execute_result"
    }
   ],
   "source": [
    "predict_price('1st Phase JP Nagar',1000, 2, 2)"
   ]
  },
  {
   "cell_type": "code",
   "execution_count": 64,
   "id": "0f78f456",
   "metadata": {
    "execution": {
     "iopub.execute_input": "2021-07-30T16:14:55.806248Z",
     "iopub.status.busy": "2021-07-30T16:14:55.805608Z",
     "iopub.status.idle": "2021-07-30T16:14:55.812933Z",
     "shell.execute_reply": "2021-07-30T16:14:55.812289Z",
     "shell.execute_reply.started": "2021-07-30T15:37:00.950938Z"
    },
    "papermill": {
     "duration": 0.107086,
     "end_time": "2021-07-30T16:14:55.813076",
     "exception": false,
     "start_time": "2021-07-30T16:14:55.705990",
     "status": "completed"
    },
    "tags": []
   },
   "outputs": [
    {
     "data": {
      "text/plain": [
       "86.08062284985986"
      ]
     },
     "execution_count": 64,
     "metadata": {},
     "output_type": "execute_result"
    }
   ],
   "source": [
    "predict_price('1st Phase JP Nagar',1000, 3, 3)"
   ]
  },
  {
   "cell_type": "code",
   "execution_count": 65,
   "id": "ff5abca1",
   "metadata": {
    "execution": {
     "iopub.execute_input": "2021-07-30T16:14:56.023740Z",
     "iopub.status.busy": "2021-07-30T16:14:56.023010Z",
     "iopub.status.idle": "2021-07-30T16:14:56.026890Z",
     "shell.execute_reply": "2021-07-30T16:14:56.027340Z",
     "shell.execute_reply.started": "2021-07-30T15:37:00.965006Z"
    },
    "papermill": {
     "duration": 0.112324,
     "end_time": "2021-07-30T16:14:56.027516",
     "exception": false,
     "start_time": "2021-07-30T16:14:55.915192",
     "status": "completed"
    },
    "tags": []
   },
   "outputs": [
    {
     "data": {
      "text/plain": [
       "193.31197733179556"
      ]
     },
     "execution_count": 65,
     "metadata": {},
     "output_type": "execute_result"
    }
   ],
   "source": [
    "predict_price('Indira Nagar',1000, 2, 2)"
   ]
  },
  {
   "cell_type": "code",
   "execution_count": 66,
   "id": "1f3dbc47",
   "metadata": {
    "execution": {
     "iopub.execute_input": "2021-07-30T16:14:56.230278Z",
     "iopub.status.busy": "2021-07-30T16:14:56.229544Z",
     "iopub.status.idle": "2021-07-30T16:14:56.233473Z",
     "shell.execute_reply": "2021-07-30T16:14:56.232844Z",
     "shell.execute_reply.started": "2021-07-30T15:37:00.979090Z"
    },
    "papermill": {
     "duration": 0.108128,
     "end_time": "2021-07-30T16:14:56.233636",
     "exception": false,
     "start_time": "2021-07-30T16:14:56.125508",
     "status": "completed"
    },
    "scrolled": true,
    "tags": []
   },
   "outputs": [
    {
     "data": {
      "text/plain": [
       "195.52689759854334"
      ]
     },
     "execution_count": 66,
     "metadata": {},
     "output_type": "execute_result"
    }
   ],
   "source": [
    "predict_price('Indira Nagar',1000, 3, 3)"
   ]
  },
  {
   "cell_type": "markdown",
   "id": "35a3d282",
   "metadata": {
    "papermill": {
     "duration": 0.098357,
     "end_time": "2021-07-30T16:14:56.431378",
     "exception": false,
     "start_time": "2021-07-30T16:14:56.333021",
     "status": "completed"
    },
    "tags": []
   },
   "source": [
    "### EXPORT THE TESTED MODEL TO A PICKLE FILE"
   ]
  },
  {
   "cell_type": "code",
   "execution_count": 67,
   "id": "d0ebb742",
   "metadata": {
    "execution": {
     "iopub.execute_input": "2021-07-30T16:14:56.634461Z",
     "iopub.status.busy": "2021-07-30T16:14:56.633818Z",
     "iopub.status.idle": "2021-07-30T16:14:56.635925Z",
     "shell.execute_reply": "2021-07-30T16:14:56.636394Z",
     "shell.execute_reply.started": "2021-07-30T15:37:00.993167Z"
    },
    "papermill": {
     "duration": 0.106586,
     "end_time": "2021-07-30T16:14:56.636618",
     "exception": false,
     "start_time": "2021-07-30T16:14:56.530032",
     "status": "completed"
    },
    "tags": []
   },
   "outputs": [],
   "source": [
    "import pickle\n",
    "with open('banglore_home_prices_model.pickle','wb') as f:\n",
    "    pickle.dump(lr_clf,f)"
   ]
  },
  {
   "cell_type": "markdown",
   "id": "b0c76190",
   "metadata": {
    "papermill": {
     "duration": 0.099529,
     "end_time": "2021-07-30T16:14:56.835183",
     "exception": false,
     "start_time": "2021-07-30T16:14:56.735654",
     "status": "completed"
    },
    "tags": []
   },
   "source": [
    "### EXPORT LOCATION AND COLUMN INFORMATION TO A FILE THAT WILL BE USEFUL LATER ON IN OUR PREDICTION APPLICATION"
   ]
  },
  {
   "cell_type": "code",
   "execution_count": 68,
   "id": "ef1d5731",
   "metadata": {
    "execution": {
     "iopub.execute_input": "2021-07-30T16:14:57.039134Z",
     "iopub.status.busy": "2021-07-30T16:14:57.038419Z",
     "iopub.status.idle": "2021-07-30T16:14:57.044755Z",
     "shell.execute_reply": "2021-07-30T16:14:57.044119Z",
     "shell.execute_reply.started": "2021-07-30T15:37:01.007715Z"
    },
    "papermill": {
     "duration": 0.109599,
     "end_time": "2021-07-30T16:14:57.044947",
     "exception": false,
     "start_time": "2021-07-30T16:14:56.935348",
     "status": "completed"
    },
    "tags": []
   },
   "outputs": [],
   "source": [
    "import json\n",
    "columns = {\n",
    "    'data_columns' : [col.lower() for col in X.columns]\n",
    "}\n",
    "with open(\"columns.json\",\"w\") as f:\n",
    "    f.write(json.dumps(columns))"
   ]
  }
 ],
 "metadata": {
  "kernelspec": {
   "display_name": "Python 3",
   "language": "python",
   "name": "python3"
  },
  "language_info": {
   "codemirror_mode": {
    "name": "ipython",
    "version": 3
   },
   "file_extension": ".py",
   "mimetype": "text/x-python",
   "name": "python",
   "nbconvert_exporter": "python",
   "pygments_lexer": "ipython3",
   "version": "3.7.10"
  },
  "papermill": {
   "default_parameters": {},
   "duration": 43.145995,
   "end_time": "2021-07-30T16:14:58.949762",
   "environment_variables": {},
   "exception": null,
   "input_path": "__notebook__.ipynb",
   "output_path": "__notebook__.ipynb",
   "parameters": {},
   "start_time": "2021-07-30T16:14:15.803767",
   "version": "2.3.3"
  }
 },
 "nbformat": 4,
 "nbformat_minor": 5
}
